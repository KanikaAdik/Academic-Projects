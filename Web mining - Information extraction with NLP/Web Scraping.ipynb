{
 "cells": [
  {
   "cell_type": "markdown",
   "id": "56253b0c",
   "metadata": {},
   "source": [
    "# Web Scrapping"
   ]
  },
  {
   "cell_type": "code",
   "execution_count": 1,
   "id": "34ab5cda",
   "metadata": {},
   "outputs": [],
   "source": [
    "#This Jupyter notebook is dedicated to Web Scrapping\n",
    "#We collected a dataset comprising nearly 2,000 job postings related to the accounting profession by web scraping"
   ]
  },
  {
   "cell_type": "code",
   "execution_count": 3,
   "id": "da7404fc",
   "metadata": {
    "collapsed": true
   },
   "outputs": [
    {
     "name": "stdout",
     "output_type": "stream",
     "text": [
      "Requirement already satisfied: selenium in /Users/apple/opt/anaconda3/lib/python3.9/site-packages (4.8.0)\n",
      "Requirement already satisfied: urllib3[socks]~=1.26 in /Users/apple/opt/anaconda3/lib/python3.9/site-packages (from selenium) (1.26.11)\n",
      "Requirement already satisfied: certifi>=2021.10.8 in /Users/apple/opt/anaconda3/lib/python3.9/site-packages (from selenium) (2022.9.24)\n",
      "Requirement already satisfied: trio~=0.17 in /Users/apple/opt/anaconda3/lib/python3.9/site-packages (from selenium) (0.22.0)\n",
      "Requirement already satisfied: trio-websocket~=0.9 in /Users/apple/opt/anaconda3/lib/python3.9/site-packages (from selenium) (0.9.2)\n",
      "Requirement already satisfied: sortedcontainers in /Users/apple/opt/anaconda3/lib/python3.9/site-packages (from trio~=0.17->selenium) (2.4.0)\n",
      "Requirement already satisfied: sniffio in /Users/apple/opt/anaconda3/lib/python3.9/site-packages (from trio~=0.17->selenium) (1.2.0)\n",
      "Requirement already satisfied: attrs>=19.2.0 in /Users/apple/opt/anaconda3/lib/python3.9/site-packages (from trio~=0.17->selenium) (21.4.0)\n",
      "Requirement already satisfied: outcome in /Users/apple/opt/anaconda3/lib/python3.9/site-packages (from trio~=0.17->selenium) (1.2.0)\n",
      "Requirement already satisfied: async-generator>=1.9 in /Users/apple/opt/anaconda3/lib/python3.9/site-packages (from trio~=0.17->selenium) (1.10)\n",
      "Requirement already satisfied: idna in /Users/apple/opt/anaconda3/lib/python3.9/site-packages (from trio~=0.17->selenium) (3.3)\n",
      "Requirement already satisfied: exceptiongroup>=1.0.0rc9 in /Users/apple/opt/anaconda3/lib/python3.9/site-packages (from trio~=0.17->selenium) (1.1.0)\n",
      "Requirement already satisfied: wsproto>=0.14 in /Users/apple/opt/anaconda3/lib/python3.9/site-packages (from trio-websocket~=0.9->selenium) (1.2.0)\n",
      "Requirement already satisfied: PySocks!=1.5.7,<2.0,>=1.5.6 in /Users/apple/opt/anaconda3/lib/python3.9/site-packages (from urllib3[socks]~=1.26->selenium) (1.7.1)\n",
      "Requirement already satisfied: h11<1,>=0.9.0 in /Users/apple/opt/anaconda3/lib/python3.9/site-packages (from wsproto>=0.14->trio-websocket~=0.9->selenium) (0.14.0)\n",
      "Note: you may need to restart the kernel to use updated packages.\n"
     ]
    }
   ],
   "source": [
    "pip install selenium\n",
    "pip install wordcloud\n",
    "pip install webdriver-manager"
   ]
  },
  {
   "cell_type": "code",
   "execution_count": 5,
   "id": "6c09ca06",
   "metadata": {},
   "outputs": [],
   "source": [
    "#Import Relevant Libraries\n",
    "from webdriver_manager.chrome import ChromeDriverManager \n",
    "from selenium import webdriver \n",
    "from selenium.webdriver.chrome.service import Service as ChromeService\n",
    "import requests\n",
    "from bs4 import BeautifulSoup  \n",
    "import pandas as pd\n",
    "from selenium.webdriver.common.by import By\n",
    "from selenium.webdriver.support.ui import WebDriverWait\n",
    "from selenium.webdriver.support import expected_conditions as EC\n",
    "import time\n",
    "import re\n",
    "from wordcloud import WordCloud\n",
    "from gensim.models import Word2Vec"
   ]
  },
  {
   "cell_type": "code",
   "execution_count": 33,
   "id": "593ac920",
   "metadata": {
    "collapsed": true
   },
   "outputs": [
    {
     "name": "stdout",
     "output_type": "stream",
     "text": [
      "len off lll  720 690 https://www.indeed.com/jobs?q=accountant\n",
      "len off lll  735 700 https://www.indeed.com/jobs?q=accountant\n",
      "len off lll  750 710 https://www.indeed.com/jobs?q=accountant\n",
      "len off lll  765 720 https://www.indeed.com/jobs?q=accountant\n",
      "len off lll  780 730 https://www.indeed.com/jobs?q=accountant\n",
      "len off lll  787 740 https://www.indeed.com/jobs?q=accountant\n",
      "len off lll  802 750 https://www.indeed.com/jobs?q=accountant\n",
      "len off lll  817 760 https://www.indeed.com/jobs?q=accountant\n",
      "len off lll  832 770 https://www.indeed.com/jobs?q=accountant\n",
      "len off lll  847 780 https://www.indeed.com/jobs?q=accountant\n",
      "len off lll  862 790 https://www.indeed.com/jobs?q=accountant\n",
      "len off lll  877 800 https://www.indeed.com/jobs?q=accountant\n",
      "len off lll  892 810 https://www.indeed.com/jobs?q=accountant\n",
      "len off lll  907 820 https://www.indeed.com/jobs?q=accountant\n",
      "len off lll  922 830 https://www.indeed.com/jobs?q=accountant\n",
      "len off lll  937 840 https://www.indeed.com/jobs?q=accountant\n",
      "len off lll  952 850 https://www.indeed.com/jobs?q=accountant\n",
      "len off lll  967 860 https://www.indeed.com/jobs?q=accountant\n",
      "len off lll  982 870 https://www.indeed.com/jobs?q=accountant\n",
      "len off lll  997 880 https://www.indeed.com/jobs?q=accountant\n",
      "len off lll  1012 890 https://www.indeed.com/jobs?q=accountant\n",
      "len off lll  1027 900 https://www.indeed.com/jobs?q=accountant\n",
      "len off lll  1042 910 https://www.indeed.com/jobs?q=accountant\n",
      "len off lll  1057 920 https://www.indeed.com/jobs?q=accountant\n",
      "len off lll  1072 930 https://www.indeed.com/jobs?q=accountant\n",
      "len off lll  1087 940 https://www.indeed.com/jobs?q=accountant\n",
      "len off lll  1102 950 https://www.indeed.com/jobs?q=accountant\n",
      "len off lll  1117 960 https://www.indeed.com/jobs?q=accountant\n",
      "len off lll  1132 970 https://www.indeed.com/jobs?q=accountant\n",
      "len off lll  1147 980 https://www.indeed.com/jobs?q=accountant\n",
      "len off lll  1162 990 https://www.indeed.com/jobs?q=accountant\n",
      "len off lll  1177 1000 https://www.indeed.com/jobs?q=accountant\n",
      "len off lll  1192 1010 https://www.indeed.com/jobs?q=accountant\n",
      "len off lll  1207 1020 https://www.indeed.com/jobs?q=accountant\n",
      "len off lll  1222 1030 https://www.indeed.com/jobs?q=accountant\n",
      "len off lll  1237 1040 https://www.indeed.com/jobs?q=accountant\n",
      "len off lll  1252 1050 https://www.indeed.com/jobs?q=accountant\n",
      "len off lll  1267 1060 https://www.indeed.com/jobs?q=accountant\n",
      "len off lll  1282 1070 https://www.indeed.com/jobs?q=accountant\n",
      "len off lll  1297 1080 https://www.indeed.com/jobs?q=accountant\n",
      "len off lll  1312 1090 https://www.indeed.com/jobs?q=accountant\n",
      "len off lll  1327 1100 https://www.indeed.com/jobs?q=accountant\n",
      "len off lll  1342 1110 https://www.indeed.com/jobs?q=accountant\n",
      "len off lll  1357 1120 https://www.indeed.com/jobs?q=accountant\n",
      "len off lll  1372 1130 https://www.indeed.com/jobs?q=accountant\n",
      "len off lll  1387 1140 https://www.indeed.com/jobs?q=accountant\n",
      "len off lll  1402 1150 https://www.indeed.com/jobs?q=accountant\n",
      "len off lll  1417 1160 https://www.indeed.com/jobs?q=accountant\n",
      "len off lll  1432 1170 https://www.indeed.com/jobs?q=accountant\n",
      "len off lll  1447 1180 https://www.indeed.com/jobs?q=accountant\n",
      "len off lll  1462 1190 https://www.indeed.com/jobs?q=accountant\n",
      "len off lll  1477 1200 https://www.indeed.com/jobs?q=accountant\n",
      "len off lll  1492 1210 https://www.indeed.com/jobs?q=accountant\n",
      "len off lll  1507 1220 https://www.indeed.com/jobs?q=accountant\n",
      "len off lll  1522 1230 https://www.indeed.com/jobs?q=accountant\n",
      "len off lll  1537 1240 https://www.indeed.com/jobs?q=accountant\n",
      "len off lll  1552 1250 https://www.indeed.com/jobs?q=accountant\n",
      "len off lll  1567 1260 https://www.indeed.com/jobs?q=accountant\n",
      "len off lll  1582 1270 https://www.indeed.com/jobs?q=accountant\n",
      "len off lll  1597 1280 https://www.indeed.com/jobs?q=accountant\n",
      "len off lll  1612 1290 https://www.indeed.com/jobs?q=accountant\n",
      "len off lll  1627 1300 https://www.indeed.com/jobs?q=accountant\n",
      "len off lll  1642 1310 https://www.indeed.com/jobs?q=accountant\n",
      "len off lll  1657 1320 https://www.indeed.com/jobs?q=accountant\n",
      "len off lll  1672 1330 https://www.indeed.com/jobs?q=accountant\n",
      "len off lll  1687 1340 https://www.indeed.com/jobs?q=accountant\n",
      "len off lll  1702 1350 https://www.indeed.com/jobs?q=accountant\n",
      "len off lll  1717 1360 https://www.indeed.com/jobs?q=accountant\n",
      "len off lll  1732 1370 https://www.indeed.com/jobs?q=accountant\n",
      "len off lll  1747 1380 https://www.indeed.com/jobs?q=accountant\n",
      "len off lll  1762 1390 https://www.indeed.com/jobs?q=accountant\n",
      "len off lll  1777 1400 https://www.indeed.com/jobs?q=accountant\n",
      "len off lll  1792 1410 https://www.indeed.com/jobs?q=accountant\n",
      "len off lll  1807 1420 https://www.indeed.com/jobs?q=accountant\n",
      "len off lll  1822 1430 https://www.indeed.com/jobs?q=accountant\n",
      "len off lll  1837 1440 https://www.indeed.com/jobs?q=accountant\n",
      "len off lll  1852 1450 https://www.indeed.com/jobs?q=accountant\n",
      "len off lll  1867 1460 https://www.indeed.com/jobs?q=accountant\n",
      "len off lll  1882 1470 https://www.indeed.com/jobs?q=accountant\n",
      "len off lll  1897 1480 https://www.indeed.com/jobs?q=accountant\n",
      "len off lll  1912 1490 https://www.indeed.com/jobs?q=accountant\n",
      "len off lll  1927 1500 https://www.indeed.com/jobs?q=accountant\n",
      "len off lll  1942 1510 https://www.indeed.com/jobs?q=accountant\n",
      "len off lll  1957 1520 https://www.indeed.com/jobs?q=accountant\n",
      "len off lll  1972 1530 https://www.indeed.com/jobs?q=accountant\n",
      "len off lll  1987 1540 https://www.indeed.com/jobs?q=accountant\n",
      "len off lll  2002 1550 https://www.indeed.com/jobs?q=accountant\n"
     ]
    }
   ],
   "source": [
    "#Define the url page\n",
    "page_url=\"https://www.indeed.com/jobs?q=accountant\"\n",
    "\n",
    "#Get the driver\n",
    "driver = webdriver.Chrome(service=ChromeService(ChromeDriverManager().install())) \n",
    "#Get the url\n",
    "driver.get(page_url)\n",
    "next_page=10\n",
    "\n",
    "#Loop over 2,000 job posting\n",
    "while(len(ll)<2000):\n",
    "    page = driver.page_source\n",
    "    soup = BeautifulSoup(page, 'html.parser')\n",
    "    ul  = soup.find('ul', {'class': 'jobsearch-ResultsList'})\n",
    "    try:\n",
    "        lilist = ul.find_all('li')\n",
    "    except:\n",
    "        time.sleep(30)\n",
    "        continue\n",
    "    for l in lilist:\n",
    "        try:\n",
    "            x=l.a.attrs[\"href\"]\n",
    "            if x.startswith(\"/pagead/clk?mo=\") or x.startswith(\"/rc/clk?jk=\"):\n",
    "                ll.append(x)\n",
    "        except:\n",
    "            pass\n",
    "    next_page +=10\n",
    "    print(\"len off lll \", len(ll), next_page, page_url)\n",
    "    driver.get(page_url+\"&start=\"+str(next_page))\n",
    "driver.quit()"
   ]
  },
  {
   "cell_type": "code",
   "execution_count": 39,
   "id": "958f4259",
   "metadata": {},
   "outputs": [],
   "source": [
    "#Get them and transform thm to a dataframe\n",
    "ll=list(set(ll))\n",
    "jl = pd.DataFrame({'urllist':ll})\n",
    "jl.to_csv(\"joburls.csv\")"
   ]
  },
  {
   "cell_type": "code",
   "execution_count": 214,
   "id": "6fac3ee7",
   "metadata": {},
   "outputs": [],
   "source": [
    "driver = webdriver.Chrome(service=ChromeService(ChromeDriverManager().install())) \n",
    "p_url=\"https://www.indeed.com/\"\n",
    "dataset1={'job_url':[], 'job_title':[], 'company':[],'salary':[], 'job_type':[],'job_description':[] }\n",
    "for l in ll:\n",
    "    job_url = p_url +l\n",
    "    driver.get(job_url)\n",
    "    page = driver.page_source\n",
    "    soup = BeautifulSoup(page, 'html.parser')\n",
    "    try:\n",
    "        job_title = soup.find(class_=\"jobsearch-JobInfoHeader-title\").get_text()\n",
    "    except:\n",
    "        time.sleep(30)\n",
    "        continue\n",
    "    company = soup.select(\"div[data-company-name=true]\")\n",
    "    try:\n",
    "        salary = soup.find(class_=\"css-2iqe2o eu4oa1w0\").get_text()\n",
    "    except:\n",
    "        salary = None\n",
    "    try:\n",
    "        job_type= soup.find(\"div\", class_=\"css-rr5fiy eu4oa1w0\").get_text()\n",
    "    except:\n",
    "        job_type = None\n",
    "    job_description = soup.find(\"div\", class_=\"jobsearch-jobDescriptionText\").get_text()\n",
    "    \n",
    "    dataset['job_url'].append(job_url)\n",
    "    dataset['job_title'].append(job_title)\n",
    "    dataset['company'].append(company[0].text)\n",
    "    dataset['salary'].append(salary)\n",
    "    dataset['job_type'].append(job_type)\n",
    "    dataset['job_description'].append(job_description)"
   ]
  },
  {
   "cell_type": "code",
   "execution_count": 216,
   "id": "cae3cce3",
   "metadata": {},
   "outputs": [],
   "source": [
    "#Transform to a dataframe\n",
    "ds2 = pd.DataFrame(dataset)\n",
    "#Export as an CSV file\n",
    "ds2.to_csv(\"indeed_jos_acc222.csv\", index=True)"
   ]
  }
 ],
 "metadata": {
  "kernelspec": {
   "display_name": "Python 3 (ipykernel)",
   "language": "python",
   "name": "python3"
  },
  "language_info": {
   "codemirror_mode": {
    "name": "ipython",
    "version": 3
   },
   "file_extension": ".py",
   "mimetype": "text/x-python",
   "name": "python",
   "nbconvert_exporter": "python",
   "pygments_lexer": "ipython3",
   "version": "3.9.13"
  }
 },
 "nbformat": 4,
 "nbformat_minor": 5
}
