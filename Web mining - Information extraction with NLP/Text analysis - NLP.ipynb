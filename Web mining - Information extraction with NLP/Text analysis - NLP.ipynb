{
  "cells": [
    {
      "cell_type": "code",
      "execution_count": 5,
      "id": "d6f4f5d1",
      "metadata": {
        "id": "d6f4f5d1",
        "colab": {
          "base_uri": "https://localhost:8080/"
        },
        "outputId": "6c018ddb-f933-4f44-9b70-7f62a09e06ed"
      },
      "outputs": [
        {
          "output_type": "stream",
          "name": "stdout",
          "text": [
            "Looking in indexes: https://pypi.org/simple, https://us-python.pkg.dev/colab-wheels/public/simple/\n",
            "Requirement already satisfied: wordcloud in /usr/local/lib/python3.10/dist-packages (1.8.2.2)\n",
            "Requirement already satisfied: pillow in /usr/local/lib/python3.10/dist-packages (from wordcloud) (8.4.0)\n",
            "Requirement already satisfied: matplotlib in /usr/local/lib/python3.10/dist-packages (from wordcloud) (3.7.1)\n",
            "Requirement already satisfied: numpy>=1.6.1 in /usr/local/lib/python3.10/dist-packages (from wordcloud) (1.22.4)\n",
            "Requirement already satisfied: cycler>=0.10 in /usr/local/lib/python3.10/dist-packages (from matplotlib->wordcloud) (0.11.0)\n",
            "Requirement already satisfied: packaging>=20.0 in /usr/local/lib/python3.10/dist-packages (from matplotlib->wordcloud) (23.1)\n",
            "Requirement already satisfied: contourpy>=1.0.1 in /usr/local/lib/python3.10/dist-packages (from matplotlib->wordcloud) (1.0.7)\n",
            "Requirement already satisfied: kiwisolver>=1.0.1 in /usr/local/lib/python3.10/dist-packages (from matplotlib->wordcloud) (1.4.4)\n",
            "Requirement already satisfied: fonttools>=4.22.0 in /usr/local/lib/python3.10/dist-packages (from matplotlib->wordcloud) (4.39.3)\n",
            "Requirement already satisfied: python-dateutil>=2.7 in /usr/local/lib/python3.10/dist-packages (from matplotlib->wordcloud) (2.8.2)\n",
            "Requirement already satisfied: pyparsing>=2.3.1 in /usr/local/lib/python3.10/dist-packages (from matplotlib->wordcloud) (3.0.9)\n",
            "Requirement already satisfied: six>=1.5 in /usr/local/lib/python3.10/dist-packages (from python-dateutil>=2.7->matplotlib->wordcloud) (1.16.0)\n"
          ]
        }
      ],
      "source": [
        "pip install wordcloud"
      ]
    },
    {
      "cell_type": "code",
      "execution_count": 6,
      "id": "685d37c2",
      "metadata": {
        "id": "685d37c2"
      },
      "outputs": [],
      "source": [
        "import matplotlib.pyplot as plt\n",
        "from wordcloud import WordCloud\n",
        "from nltk.corpus import stopwords\n",
        "from gensim.models import Word2Vec"
      ]
    },
    {
      "cell_type": "markdown",
      "id": "30790bb4",
      "metadata": {
        "id": "30790bb4"
      },
      "source": [
        "# Exploratory Data Analysis"
      ]
    },
    {
      "cell_type": "code",
      "source": [
        "import json\n",
        "import string\n",
        "import spacy\n",
        "from spacy.lang.en import English\n",
        "import numpy as np\n",
        "import pandas as pd\n",
        "from matplotlib import rc, pyplot as plt\n",
        "from sklearn.feature_extraction.text import CountVectorizer, TfidfVectorizer\n",
        "#from fastai.text import TextList\n",
        "import seaborn as sns\n",
        "from collections import Counter\n",
        "import plotly.express as px\n",
        "import re"
      ],
      "metadata": {
        "id": "SXRNRSRBQkw5"
      },
      "id": "SXRNRSRBQkw5",
      "execution_count": 7,
      "outputs": []
    },
    {
      "cell_type": "code",
      "source": [
        "import nltk\n",
        "nltk.download('wordnet')\n",
        "nltk.download('punkt')\n",
        "from nltk import stem"
      ],
      "metadata": {
        "colab": {
          "base_uri": "https://localhost:8080/"
        },
        "id": "GKGhpUowQpFp",
        "outputId": "ad66dd5a-34b5-4fb3-9520-0e2cb779871e"
      },
      "id": "GKGhpUowQpFp",
      "execution_count": 8,
      "outputs": [
        {
          "output_type": "stream",
          "name": "stderr",
          "text": [
            "[nltk_data] Downloading package wordnet to /root/nltk_data...\n",
            "[nltk_data] Downloading package punkt to /root/nltk_data...\n",
            "[nltk_data]   Unzipping tokenizers/punkt.zip.\n"
          ]
        }
      ]
    },
    {
      "cell_type": "code",
      "source": [
        "import nltk\n",
        "nltk.download('stopwords')"
      ],
      "metadata": {
        "colab": {
          "base_uri": "https://localhost:8080/"
        },
        "id": "9WTT2WwiVd2m",
        "outputId": "9f765b75-08f1-4b09-af0b-875b240211d2"
      },
      "id": "9WTT2WwiVd2m",
      "execution_count": 9,
      "outputs": [
        {
          "output_type": "stream",
          "name": "stderr",
          "text": [
            "[nltk_data] Downloading package stopwords to /root/nltk_data...\n",
            "[nltk_data]   Unzipping corpora/stopwords.zip.\n"
          ]
        },
        {
          "output_type": "execute_result",
          "data": {
            "text/plain": [
              "True"
            ]
          },
          "metadata": {},
          "execution_count": 9
        }
      ]
    },
    {
      "cell_type": "markdown",
      "id": "ff75a66f",
      "metadata": {
        "id": "ff75a66f"
      },
      "source": [
        "## Data Cleaning"
      ]
    },
    {
      "cell_type": "code",
      "execution_count": 10,
      "id": "80857ae1",
      "metadata": {
        "id": "80857ae1"
      },
      "outputs": [],
      "source": [
        "ds = pd.read_csv(\"indeed_jos_acc222.csv\")"
      ]
    },
    {
      "cell_type": "code",
      "execution_count": 11,
      "id": "ea839e32",
      "metadata": {
        "id": "ea839e32"
      },
      "outputs": [],
      "source": [
        "ds= ds.replace(\"undecided\", None)"
      ]
    },
    {
      "cell_type": "code",
      "execution_count": 12,
      "id": "35603d11",
      "metadata": {
        "id": "35603d11",
        "outputId": "56223983-8714-404b-d21f-04d3a09e0b40",
        "colab": {
          "base_uri": "https://localhost:8080/"
        }
      },
      "outputs": [
        {
          "output_type": "execute_result",
          "data": {
            "text/plain": [
              "Unnamed: 0           0\n",
              "job_url              0\n",
              "job_title            0\n",
              "company              0\n",
              "salary             885\n",
              "job_type           284\n",
              "job_description      0\n",
              "dtype: int64"
            ]
          },
          "metadata": {},
          "execution_count": 12
        }
      ],
      "source": [
        "ds.isnull().sum()"
      ]
    },
    {
      "cell_type": "code",
      "execution_count": 14,
      "id": "05501687",
      "metadata": {
        "id": "05501687",
        "outputId": "d279ae74-15cd-4452-94a3-0147cfa2d010",
        "colab": {
          "base_uri": "https://localhost:8080/",
          "height": 300
        }
      },
      "outputs": [
        {
          "output_type": "execute_result",
          "data": {
            "text/plain": [
              "        Unnamed: 0\n",
              "count  2079.000000\n",
              "mean   1039.000000\n",
              "std     600.299925\n",
              "min       0.000000\n",
              "25%     519.500000\n",
              "50%    1039.000000\n",
              "75%    1558.500000\n",
              "max    2078.000000"
            ],
            "text/html": [
              "\n",
              "  <div id=\"df-e4814cb0-8bbe-4635-8ce0-ac52119bea94\">\n",
              "    <div class=\"colab-df-container\">\n",
              "      <div>\n",
              "<style scoped>\n",
              "    .dataframe tbody tr th:only-of-type {\n",
              "        vertical-align: middle;\n",
              "    }\n",
              "\n",
              "    .dataframe tbody tr th {\n",
              "        vertical-align: top;\n",
              "    }\n",
              "\n",
              "    .dataframe thead th {\n",
              "        text-align: right;\n",
              "    }\n",
              "</style>\n",
              "<table border=\"1\" class=\"dataframe\">\n",
              "  <thead>\n",
              "    <tr style=\"text-align: right;\">\n",
              "      <th></th>\n",
              "      <th>Unnamed: 0</th>\n",
              "    </tr>\n",
              "  </thead>\n",
              "  <tbody>\n",
              "    <tr>\n",
              "      <th>count</th>\n",
              "      <td>2079.000000</td>\n",
              "    </tr>\n",
              "    <tr>\n",
              "      <th>mean</th>\n",
              "      <td>1039.000000</td>\n",
              "    </tr>\n",
              "    <tr>\n",
              "      <th>std</th>\n",
              "      <td>600.299925</td>\n",
              "    </tr>\n",
              "    <tr>\n",
              "      <th>min</th>\n",
              "      <td>0.000000</td>\n",
              "    </tr>\n",
              "    <tr>\n",
              "      <th>25%</th>\n",
              "      <td>519.500000</td>\n",
              "    </tr>\n",
              "    <tr>\n",
              "      <th>50%</th>\n",
              "      <td>1039.000000</td>\n",
              "    </tr>\n",
              "    <tr>\n",
              "      <th>75%</th>\n",
              "      <td>1558.500000</td>\n",
              "    </tr>\n",
              "    <tr>\n",
              "      <th>max</th>\n",
              "      <td>2078.000000</td>\n",
              "    </tr>\n",
              "  </tbody>\n",
              "</table>\n",
              "</div>\n",
              "      <button class=\"colab-df-convert\" onclick=\"convertToInteractive('df-e4814cb0-8bbe-4635-8ce0-ac52119bea94')\"\n",
              "              title=\"Convert this dataframe to an interactive table.\"\n",
              "              style=\"display:none;\">\n",
              "        \n",
              "  <svg xmlns=\"http://www.w3.org/2000/svg\" height=\"24px\"viewBox=\"0 0 24 24\"\n",
              "       width=\"24px\">\n",
              "    <path d=\"M0 0h24v24H0V0z\" fill=\"none\"/>\n",
              "    <path d=\"M18.56 5.44l.94 2.06.94-2.06 2.06-.94-2.06-.94-.94-2.06-.94 2.06-2.06.94zm-11 1L8.5 8.5l.94-2.06 2.06-.94-2.06-.94L8.5 2.5l-.94 2.06-2.06.94zm10 10l.94 2.06.94-2.06 2.06-.94-2.06-.94-.94-2.06-.94 2.06-2.06.94z\"/><path d=\"M17.41 7.96l-1.37-1.37c-.4-.4-.92-.59-1.43-.59-.52 0-1.04.2-1.43.59L10.3 9.45l-7.72 7.72c-.78.78-.78 2.05 0 2.83L4 21.41c.39.39.9.59 1.41.59.51 0 1.02-.2 1.41-.59l7.78-7.78 2.81-2.81c.8-.78.8-2.07 0-2.86zM5.41 20L4 18.59l7.72-7.72 1.47 1.35L5.41 20z\"/>\n",
              "  </svg>\n",
              "      </button>\n",
              "      \n",
              "  <style>\n",
              "    .colab-df-container {\n",
              "      display:flex;\n",
              "      flex-wrap:wrap;\n",
              "      gap: 12px;\n",
              "    }\n",
              "\n",
              "    .colab-df-convert {\n",
              "      background-color: #E8F0FE;\n",
              "      border: none;\n",
              "      border-radius: 50%;\n",
              "      cursor: pointer;\n",
              "      display: none;\n",
              "      fill: #1967D2;\n",
              "      height: 32px;\n",
              "      padding: 0 0 0 0;\n",
              "      width: 32px;\n",
              "    }\n",
              "\n",
              "    .colab-df-convert:hover {\n",
              "      background-color: #E2EBFA;\n",
              "      box-shadow: 0px 1px 2px rgba(60, 64, 67, 0.3), 0px 1px 3px 1px rgba(60, 64, 67, 0.15);\n",
              "      fill: #174EA6;\n",
              "    }\n",
              "\n",
              "    [theme=dark] .colab-df-convert {\n",
              "      background-color: #3B4455;\n",
              "      fill: #D2E3FC;\n",
              "    }\n",
              "\n",
              "    [theme=dark] .colab-df-convert:hover {\n",
              "      background-color: #434B5C;\n",
              "      box-shadow: 0px 1px 3px 1px rgba(0, 0, 0, 0.15);\n",
              "      filter: drop-shadow(0px 1px 2px rgba(0, 0, 0, 0.3));\n",
              "      fill: #FFFFFF;\n",
              "    }\n",
              "  </style>\n",
              "\n",
              "      <script>\n",
              "        const buttonEl =\n",
              "          document.querySelector('#df-e4814cb0-8bbe-4635-8ce0-ac52119bea94 button.colab-df-convert');\n",
              "        buttonEl.style.display =\n",
              "          google.colab.kernel.accessAllowed ? 'block' : 'none';\n",
              "\n",
              "        async function convertToInteractive(key) {\n",
              "          const element = document.querySelector('#df-e4814cb0-8bbe-4635-8ce0-ac52119bea94');\n",
              "          const dataTable =\n",
              "            await google.colab.kernel.invokeFunction('convertToInteractive',\n",
              "                                                     [key], {});\n",
              "          if (!dataTable) return;\n",
              "\n",
              "          const docLinkHtml = 'Like what you see? Visit the ' +\n",
              "            '<a target=\"_blank\" href=https://colab.research.google.com/notebooks/data_table.ipynb>data table notebook</a>'\n",
              "            + ' to learn more about interactive tables.';\n",
              "          element.innerHTML = '';\n",
              "          dataTable['output_type'] = 'display_data';\n",
              "          await google.colab.output.renderOutput(dataTable, element);\n",
              "          const docLink = document.createElement('div');\n",
              "          docLink.innerHTML = docLinkHtml;\n",
              "          element.appendChild(docLink);\n",
              "        }\n",
              "      </script>\n",
              "    </div>\n",
              "  </div>\n",
              "  "
            ]
          },
          "metadata": {},
          "execution_count": 14
        }
      ],
      "source": [
        "ds.describe()"
      ]
    },
    {
      "cell_type": "code",
      "execution_count": 13,
      "id": "9ad18beb",
      "metadata": {
        "id": "9ad18beb"
      },
      "outputs": [],
      "source": [
        "ds['job_type']= ds['job_type'].str.strip(\"Job Type\")"
      ]
    },
    {
      "cell_type": "code",
      "execution_count": 14,
      "id": "aa979a8b",
      "metadata": {
        "id": "aa979a8b"
      },
      "outputs": [],
      "source": [
        "ds.drop_duplicates(inplace=True)"
      ]
    },
    {
      "cell_type": "code",
      "execution_count": 15,
      "id": "59937812",
      "metadata": {
        "id": "59937812"
      },
      "outputs": [],
      "source": [
        "ds.dropna(inplace=True)"
      ]
    },
    {
      "cell_type": "code",
      "execution_count": 16,
      "id": "edd844ff",
      "metadata": {
        "id": "edd844ff"
      },
      "outputs": [],
      "source": [
        "ds['salary'] = ds['salary'].str.replace(',', '')\n",
        "ds['minimum_salary'] = ds['salary'].str.extract(r'(\\d+)').astype(int)\n",
        "ds['minimum_salary'] = ds['minimum_salary'].fillna(0)"
      ]
    },
    {
      "cell_type": "code",
      "execution_count": 17,
      "id": "77e6812e",
      "metadata": {
        "id": "77e6812e",
        "outputId": "9edf412c-5ed4-4cf6-8b12-7a385e455e66",
        "colab": {
          "base_uri": "https://localhost:8080/",
          "height": 300
        }
      },
      "outputs": [
        {
          "output_type": "execute_result",
          "data": {
            "text/plain": [
              "        Unnamed: 0  minimum_salary\n",
              "count  1058.000000     1058.000000\n",
              "mean   1039.694707    57601.536862\n",
              "std     600.786972    31665.399950\n",
              "min       3.000000       15.000000\n",
              "25%     505.500000    45000.000000\n",
              "50%    1043.500000    65000.000000\n",
              "75%    1553.000000    75000.000000\n",
              "max    2078.000000   204050.000000"
            ],
            "text/html": [
              "\n",
              "  <div id=\"df-d822fd24-eb51-4988-805a-2e58340b1087\">\n",
              "    <div class=\"colab-df-container\">\n",
              "      <div>\n",
              "<style scoped>\n",
              "    .dataframe tbody tr th:only-of-type {\n",
              "        vertical-align: middle;\n",
              "    }\n",
              "\n",
              "    .dataframe tbody tr th {\n",
              "        vertical-align: top;\n",
              "    }\n",
              "\n",
              "    .dataframe thead th {\n",
              "        text-align: right;\n",
              "    }\n",
              "</style>\n",
              "<table border=\"1\" class=\"dataframe\">\n",
              "  <thead>\n",
              "    <tr style=\"text-align: right;\">\n",
              "      <th></th>\n",
              "      <th>Unnamed: 0</th>\n",
              "      <th>minimum_salary</th>\n",
              "    </tr>\n",
              "  </thead>\n",
              "  <tbody>\n",
              "    <tr>\n",
              "      <th>count</th>\n",
              "      <td>1058.000000</td>\n",
              "      <td>1058.000000</td>\n",
              "    </tr>\n",
              "    <tr>\n",
              "      <th>mean</th>\n",
              "      <td>1039.694707</td>\n",
              "      <td>57601.536862</td>\n",
              "    </tr>\n",
              "    <tr>\n",
              "      <th>std</th>\n",
              "      <td>600.786972</td>\n",
              "      <td>31665.399950</td>\n",
              "    </tr>\n",
              "    <tr>\n",
              "      <th>min</th>\n",
              "      <td>3.000000</td>\n",
              "      <td>15.000000</td>\n",
              "    </tr>\n",
              "    <tr>\n",
              "      <th>25%</th>\n",
              "      <td>505.500000</td>\n",
              "      <td>45000.000000</td>\n",
              "    </tr>\n",
              "    <tr>\n",
              "      <th>50%</th>\n",
              "      <td>1043.500000</td>\n",
              "      <td>65000.000000</td>\n",
              "    </tr>\n",
              "    <tr>\n",
              "      <th>75%</th>\n",
              "      <td>1553.000000</td>\n",
              "      <td>75000.000000</td>\n",
              "    </tr>\n",
              "    <tr>\n",
              "      <th>max</th>\n",
              "      <td>2078.000000</td>\n",
              "      <td>204050.000000</td>\n",
              "    </tr>\n",
              "  </tbody>\n",
              "</table>\n",
              "</div>\n",
              "      <button class=\"colab-df-convert\" onclick=\"convertToInteractive('df-d822fd24-eb51-4988-805a-2e58340b1087')\"\n",
              "              title=\"Convert this dataframe to an interactive table.\"\n",
              "              style=\"display:none;\">\n",
              "        \n",
              "  <svg xmlns=\"http://www.w3.org/2000/svg\" height=\"24px\"viewBox=\"0 0 24 24\"\n",
              "       width=\"24px\">\n",
              "    <path d=\"M0 0h24v24H0V0z\" fill=\"none\"/>\n",
              "    <path d=\"M18.56 5.44l.94 2.06.94-2.06 2.06-.94-2.06-.94-.94-2.06-.94 2.06-2.06.94zm-11 1L8.5 8.5l.94-2.06 2.06-.94-2.06-.94L8.5 2.5l-.94 2.06-2.06.94zm10 10l.94 2.06.94-2.06 2.06-.94-2.06-.94-.94-2.06-.94 2.06-2.06.94z\"/><path d=\"M17.41 7.96l-1.37-1.37c-.4-.4-.92-.59-1.43-.59-.52 0-1.04.2-1.43.59L10.3 9.45l-7.72 7.72c-.78.78-.78 2.05 0 2.83L4 21.41c.39.39.9.59 1.41.59.51 0 1.02-.2 1.41-.59l7.78-7.78 2.81-2.81c.8-.78.8-2.07 0-2.86zM5.41 20L4 18.59l7.72-7.72 1.47 1.35L5.41 20z\"/>\n",
              "  </svg>\n",
              "      </button>\n",
              "      \n",
              "  <style>\n",
              "    .colab-df-container {\n",
              "      display:flex;\n",
              "      flex-wrap:wrap;\n",
              "      gap: 12px;\n",
              "    }\n",
              "\n",
              "    .colab-df-convert {\n",
              "      background-color: #E8F0FE;\n",
              "      border: none;\n",
              "      border-radius: 50%;\n",
              "      cursor: pointer;\n",
              "      display: none;\n",
              "      fill: #1967D2;\n",
              "      height: 32px;\n",
              "      padding: 0 0 0 0;\n",
              "      width: 32px;\n",
              "    }\n",
              "\n",
              "    .colab-df-convert:hover {\n",
              "      background-color: #E2EBFA;\n",
              "      box-shadow: 0px 1px 2px rgba(60, 64, 67, 0.3), 0px 1px 3px 1px rgba(60, 64, 67, 0.15);\n",
              "      fill: #174EA6;\n",
              "    }\n",
              "\n",
              "    [theme=dark] .colab-df-convert {\n",
              "      background-color: #3B4455;\n",
              "      fill: #D2E3FC;\n",
              "    }\n",
              "\n",
              "    [theme=dark] .colab-df-convert:hover {\n",
              "      background-color: #434B5C;\n",
              "      box-shadow: 0px 1px 3px 1px rgba(0, 0, 0, 0.15);\n",
              "      filter: drop-shadow(0px 1px 2px rgba(0, 0, 0, 0.3));\n",
              "      fill: #FFFFFF;\n",
              "    }\n",
              "  </style>\n",
              "\n",
              "      <script>\n",
              "        const buttonEl =\n",
              "          document.querySelector('#df-d822fd24-eb51-4988-805a-2e58340b1087 button.colab-df-convert');\n",
              "        buttonEl.style.display =\n",
              "          google.colab.kernel.accessAllowed ? 'block' : 'none';\n",
              "\n",
              "        async function convertToInteractive(key) {\n",
              "          const element = document.querySelector('#df-d822fd24-eb51-4988-805a-2e58340b1087');\n",
              "          const dataTable =\n",
              "            await google.colab.kernel.invokeFunction('convertToInteractive',\n",
              "                                                     [key], {});\n",
              "          if (!dataTable) return;\n",
              "\n",
              "          const docLinkHtml = 'Like what you see? Visit the ' +\n",
              "            '<a target=\"_blank\" href=https://colab.research.google.com/notebooks/data_table.ipynb>data table notebook</a>'\n",
              "            + ' to learn more about interactive tables.';\n",
              "          element.innerHTML = '';\n",
              "          dataTable['output_type'] = 'display_data';\n",
              "          await google.colab.output.renderOutput(dataTable, element);\n",
              "          const docLink = document.createElement('div');\n",
              "          docLink.innerHTML = docLinkHtml;\n",
              "          element.appendChild(docLink);\n",
              "        }\n",
              "      </script>\n",
              "    </div>\n",
              "  </div>\n",
              "  "
            ]
          },
          "metadata": {},
          "execution_count": 17
        }
      ],
      "source": [
        "ds.describe()"
      ]
    },
    {
      "cell_type": "code",
      "execution_count": 18,
      "id": "dca1b220",
      "metadata": {
        "id": "dca1b220",
        "outputId": "74209889-fb17-4c10-9486-7387beb4a28f",
        "colab": {
          "base_uri": "https://localhost:8080/"
        }
      },
      "outputs": [
        {
          "output_type": "execute_result",
          "data": {
            "text/plain": [
              "Unnamed: 0         0\n",
              "job_url            0\n",
              "job_title          0\n",
              "company            0\n",
              "salary             0\n",
              "job_type           0\n",
              "job_description    0\n",
              "minimum_salary     0\n",
              "dtype: int64"
            ]
          },
          "metadata": {},
          "execution_count": 18
        }
      ],
      "source": [
        "ds.isnull().sum()"
      ]
    },
    {
      "cell_type": "code",
      "execution_count": 19,
      "id": "c5161545",
      "metadata": {
        "id": "c5161545"
      },
      "outputs": [],
      "source": [
        "def clean_text(text):\n",
        "    # remove non-alphabetic and non-space characters\n",
        "    text = re.sub('[^a-zA-Z\\s]', '', text)\n",
        "    # convert to lowercase\n",
        "    text = text.lower()\n",
        "    # remove extra whitespaces\n",
        "    text = re.sub('\\s+', ' ', text).strip()\n",
        "    return text\n",
        "\n",
        "def clean_salary(salary):\n",
        "    # remove non-numeric characters\n",
        "    salary = re.sub('[^0-9]', '', salary)\n",
        "    return salary"
      ]
    },
    {
      "cell_type": "code",
      "execution_count": 20,
      "id": "60bd06d9",
      "metadata": {
        "id": "60bd06d9"
      },
      "outputs": [],
      "source": [
        "\n",
        "ds['job_title'] = ds['job_title'].apply(clean_text)\n",
        "# clean company\n",
        "ds['company'] = ds['company'].apply(clean_text)\n",
        "\n",
        "# clean job_type\n",
        "ds['job_type'] = ds['job_type'].apply(clean_text)\n",
        "# clean job_description\n",
        "#ds['job_description'] = ds['job_description'].apply(clean_text)\n",
        "    "
      ]
    },
    {
      "cell_type": "markdown",
      "id": "891c0b14",
      "metadata": {
        "id": "891c0b14"
      },
      "source": [
        "### Check for missing values"
      ]
    },
    {
      "cell_type": "code",
      "execution_count": 21,
      "id": "99f31974",
      "metadata": {
        "id": "99f31974",
        "outputId": "c8ae9183-6325-4602-ee31-c9ef349a5fb3",
        "colab": {
          "base_uri": "https://localhost:8080/",
          "height": 300
        }
      },
      "outputs": [
        {
          "output_type": "execute_result",
          "data": {
            "text/plain": [
              "        Unnamed: 0  minimum_salary\n",
              "count  1058.000000     1058.000000\n",
              "mean   1039.694707    57601.536862\n",
              "std     600.786972    31665.399950\n",
              "min       3.000000       15.000000\n",
              "25%     505.500000    45000.000000\n",
              "50%    1043.500000    65000.000000\n",
              "75%    1553.000000    75000.000000\n",
              "max    2078.000000   204050.000000"
            ],
            "text/html": [
              "\n",
              "  <div id=\"df-7be0a1cd-ef70-4bf1-a676-2c71c2849f9b\">\n",
              "    <div class=\"colab-df-container\">\n",
              "      <div>\n",
              "<style scoped>\n",
              "    .dataframe tbody tr th:only-of-type {\n",
              "        vertical-align: middle;\n",
              "    }\n",
              "\n",
              "    .dataframe tbody tr th {\n",
              "        vertical-align: top;\n",
              "    }\n",
              "\n",
              "    .dataframe thead th {\n",
              "        text-align: right;\n",
              "    }\n",
              "</style>\n",
              "<table border=\"1\" class=\"dataframe\">\n",
              "  <thead>\n",
              "    <tr style=\"text-align: right;\">\n",
              "      <th></th>\n",
              "      <th>Unnamed: 0</th>\n",
              "      <th>minimum_salary</th>\n",
              "    </tr>\n",
              "  </thead>\n",
              "  <tbody>\n",
              "    <tr>\n",
              "      <th>count</th>\n",
              "      <td>1058.000000</td>\n",
              "      <td>1058.000000</td>\n",
              "    </tr>\n",
              "    <tr>\n",
              "      <th>mean</th>\n",
              "      <td>1039.694707</td>\n",
              "      <td>57601.536862</td>\n",
              "    </tr>\n",
              "    <tr>\n",
              "      <th>std</th>\n",
              "      <td>600.786972</td>\n",
              "      <td>31665.399950</td>\n",
              "    </tr>\n",
              "    <tr>\n",
              "      <th>min</th>\n",
              "      <td>3.000000</td>\n",
              "      <td>15.000000</td>\n",
              "    </tr>\n",
              "    <tr>\n",
              "      <th>25%</th>\n",
              "      <td>505.500000</td>\n",
              "      <td>45000.000000</td>\n",
              "    </tr>\n",
              "    <tr>\n",
              "      <th>50%</th>\n",
              "      <td>1043.500000</td>\n",
              "      <td>65000.000000</td>\n",
              "    </tr>\n",
              "    <tr>\n",
              "      <th>75%</th>\n",
              "      <td>1553.000000</td>\n",
              "      <td>75000.000000</td>\n",
              "    </tr>\n",
              "    <tr>\n",
              "      <th>max</th>\n",
              "      <td>2078.000000</td>\n",
              "      <td>204050.000000</td>\n",
              "    </tr>\n",
              "  </tbody>\n",
              "</table>\n",
              "</div>\n",
              "      <button class=\"colab-df-convert\" onclick=\"convertToInteractive('df-7be0a1cd-ef70-4bf1-a676-2c71c2849f9b')\"\n",
              "              title=\"Convert this dataframe to an interactive table.\"\n",
              "              style=\"display:none;\">\n",
              "        \n",
              "  <svg xmlns=\"http://www.w3.org/2000/svg\" height=\"24px\"viewBox=\"0 0 24 24\"\n",
              "       width=\"24px\">\n",
              "    <path d=\"M0 0h24v24H0V0z\" fill=\"none\"/>\n",
              "    <path d=\"M18.56 5.44l.94 2.06.94-2.06 2.06-.94-2.06-.94-.94-2.06-.94 2.06-2.06.94zm-11 1L8.5 8.5l.94-2.06 2.06-.94-2.06-.94L8.5 2.5l-.94 2.06-2.06.94zm10 10l.94 2.06.94-2.06 2.06-.94-2.06-.94-.94-2.06-.94 2.06-2.06.94z\"/><path d=\"M17.41 7.96l-1.37-1.37c-.4-.4-.92-.59-1.43-.59-.52 0-1.04.2-1.43.59L10.3 9.45l-7.72 7.72c-.78.78-.78 2.05 0 2.83L4 21.41c.39.39.9.59 1.41.59.51 0 1.02-.2 1.41-.59l7.78-7.78 2.81-2.81c.8-.78.8-2.07 0-2.86zM5.41 20L4 18.59l7.72-7.72 1.47 1.35L5.41 20z\"/>\n",
              "  </svg>\n",
              "      </button>\n",
              "      \n",
              "  <style>\n",
              "    .colab-df-container {\n",
              "      display:flex;\n",
              "      flex-wrap:wrap;\n",
              "      gap: 12px;\n",
              "    }\n",
              "\n",
              "    .colab-df-convert {\n",
              "      background-color: #E8F0FE;\n",
              "      border: none;\n",
              "      border-radius: 50%;\n",
              "      cursor: pointer;\n",
              "      display: none;\n",
              "      fill: #1967D2;\n",
              "      height: 32px;\n",
              "      padding: 0 0 0 0;\n",
              "      width: 32px;\n",
              "    }\n",
              "\n",
              "    .colab-df-convert:hover {\n",
              "      background-color: #E2EBFA;\n",
              "      box-shadow: 0px 1px 2px rgba(60, 64, 67, 0.3), 0px 1px 3px 1px rgba(60, 64, 67, 0.15);\n",
              "      fill: #174EA6;\n",
              "    }\n",
              "\n",
              "    [theme=dark] .colab-df-convert {\n",
              "      background-color: #3B4455;\n",
              "      fill: #D2E3FC;\n",
              "    }\n",
              "\n",
              "    [theme=dark] .colab-df-convert:hover {\n",
              "      background-color: #434B5C;\n",
              "      box-shadow: 0px 1px 3px 1px rgba(0, 0, 0, 0.15);\n",
              "      filter: drop-shadow(0px 1px 2px rgba(0, 0, 0, 0.3));\n",
              "      fill: #FFFFFF;\n",
              "    }\n",
              "  </style>\n",
              "\n",
              "      <script>\n",
              "        const buttonEl =\n",
              "          document.querySelector('#df-7be0a1cd-ef70-4bf1-a676-2c71c2849f9b button.colab-df-convert');\n",
              "        buttonEl.style.display =\n",
              "          google.colab.kernel.accessAllowed ? 'block' : 'none';\n",
              "\n",
              "        async function convertToInteractive(key) {\n",
              "          const element = document.querySelector('#df-7be0a1cd-ef70-4bf1-a676-2c71c2849f9b');\n",
              "          const dataTable =\n",
              "            await google.colab.kernel.invokeFunction('convertToInteractive',\n",
              "                                                     [key], {});\n",
              "          if (!dataTable) return;\n",
              "\n",
              "          const docLinkHtml = 'Like what you see? Visit the ' +\n",
              "            '<a target=\"_blank\" href=https://colab.research.google.com/notebooks/data_table.ipynb>data table notebook</a>'\n",
              "            + ' to learn more about interactive tables.';\n",
              "          element.innerHTML = '';\n",
              "          dataTable['output_type'] = 'display_data';\n",
              "          await google.colab.output.renderOutput(dataTable, element);\n",
              "          const docLink = document.createElement('div');\n",
              "          docLink.innerHTML = docLinkHtml;\n",
              "          element.appendChild(docLink);\n",
              "        }\n",
              "      </script>\n",
              "    </div>\n",
              "  </div>\n",
              "  "
            ]
          },
          "metadata": {},
          "execution_count": 21
        }
      ],
      "source": [
        "ds.describe()"
      ]
    },
    {
      "cell_type": "code",
      "execution_count": 22,
      "id": "b286ca1d",
      "metadata": {
        "id": "b286ca1d",
        "outputId": "9313b2e6-26f7-4685-81e0-33e5f266b833",
        "colab": {
          "base_uri": "https://localhost:8080/"
        }
      },
      "outputs": [
        {
          "output_type": "execute_result",
          "data": {
            "text/plain": [
              "Unnamed: 0         0\n",
              "job_url            0\n",
              "job_title          0\n",
              "company            0\n",
              "salary             0\n",
              "job_type           0\n",
              "job_description    0\n",
              "minimum_salary     0\n",
              "dtype: int64"
            ]
          },
          "metadata": {},
          "execution_count": 22
        }
      ],
      "source": [
        "ds.isnull().sum()"
      ]
    },
    {
      "cell_type": "markdown",
      "id": "f13c09cc",
      "metadata": {
        "id": "f13c09cc"
      },
      "source": [
        "### Descriptive statistics"
      ]
    },
    {
      "cell_type": "code",
      "execution_count": 31,
      "id": "107cb718",
      "metadata": {
        "id": "107cb718",
        "outputId": "41be691d-26ca-4f21-f70a-0a4a85e8469c",
        "colab": {
          "base_uri": "https://localhost:8080/",
          "height": 300
        }
      },
      "outputs": [
        {
          "output_type": "execute_result",
          "data": {
            "text/plain": [
              "        Unnamed: 0  minimum_salary\n",
              "count  1058.000000     1058.000000\n",
              "mean   1039.694707    57601.536862\n",
              "std     600.786972    31665.399950\n",
              "min       3.000000       15.000000\n",
              "25%     505.500000    45000.000000\n",
              "50%    1043.500000    65000.000000\n",
              "75%    1553.000000    75000.000000\n",
              "max    2078.000000   204050.000000"
            ],
            "text/html": [
              "\n",
              "  <div id=\"df-14eab4c1-15ff-41c8-9c43-e84d9bfa0cff\">\n",
              "    <div class=\"colab-df-container\">\n",
              "      <div>\n",
              "<style scoped>\n",
              "    .dataframe tbody tr th:only-of-type {\n",
              "        vertical-align: middle;\n",
              "    }\n",
              "\n",
              "    .dataframe tbody tr th {\n",
              "        vertical-align: top;\n",
              "    }\n",
              "\n",
              "    .dataframe thead th {\n",
              "        text-align: right;\n",
              "    }\n",
              "</style>\n",
              "<table border=\"1\" class=\"dataframe\">\n",
              "  <thead>\n",
              "    <tr style=\"text-align: right;\">\n",
              "      <th></th>\n",
              "      <th>Unnamed: 0</th>\n",
              "      <th>minimum_salary</th>\n",
              "    </tr>\n",
              "  </thead>\n",
              "  <tbody>\n",
              "    <tr>\n",
              "      <th>count</th>\n",
              "      <td>1058.000000</td>\n",
              "      <td>1058.000000</td>\n",
              "    </tr>\n",
              "    <tr>\n",
              "      <th>mean</th>\n",
              "      <td>1039.694707</td>\n",
              "      <td>57601.536862</td>\n",
              "    </tr>\n",
              "    <tr>\n",
              "      <th>std</th>\n",
              "      <td>600.786972</td>\n",
              "      <td>31665.399950</td>\n",
              "    </tr>\n",
              "    <tr>\n",
              "      <th>min</th>\n",
              "      <td>3.000000</td>\n",
              "      <td>15.000000</td>\n",
              "    </tr>\n",
              "    <tr>\n",
              "      <th>25%</th>\n",
              "      <td>505.500000</td>\n",
              "      <td>45000.000000</td>\n",
              "    </tr>\n",
              "    <tr>\n",
              "      <th>50%</th>\n",
              "      <td>1043.500000</td>\n",
              "      <td>65000.000000</td>\n",
              "    </tr>\n",
              "    <tr>\n",
              "      <th>75%</th>\n",
              "      <td>1553.000000</td>\n",
              "      <td>75000.000000</td>\n",
              "    </tr>\n",
              "    <tr>\n",
              "      <th>max</th>\n",
              "      <td>2078.000000</td>\n",
              "      <td>204050.000000</td>\n",
              "    </tr>\n",
              "  </tbody>\n",
              "</table>\n",
              "</div>\n",
              "      <button class=\"colab-df-convert\" onclick=\"convertToInteractive('df-14eab4c1-15ff-41c8-9c43-e84d9bfa0cff')\"\n",
              "              title=\"Convert this dataframe to an interactive table.\"\n",
              "              style=\"display:none;\">\n",
              "        \n",
              "  <svg xmlns=\"http://www.w3.org/2000/svg\" height=\"24px\"viewBox=\"0 0 24 24\"\n",
              "       width=\"24px\">\n",
              "    <path d=\"M0 0h24v24H0V0z\" fill=\"none\"/>\n",
              "    <path d=\"M18.56 5.44l.94 2.06.94-2.06 2.06-.94-2.06-.94-.94-2.06-.94 2.06-2.06.94zm-11 1L8.5 8.5l.94-2.06 2.06-.94-2.06-.94L8.5 2.5l-.94 2.06-2.06.94zm10 10l.94 2.06.94-2.06 2.06-.94-2.06-.94-.94-2.06-.94 2.06-2.06.94z\"/><path d=\"M17.41 7.96l-1.37-1.37c-.4-.4-.92-.59-1.43-.59-.52 0-1.04.2-1.43.59L10.3 9.45l-7.72 7.72c-.78.78-.78 2.05 0 2.83L4 21.41c.39.39.9.59 1.41.59.51 0 1.02-.2 1.41-.59l7.78-7.78 2.81-2.81c.8-.78.8-2.07 0-2.86zM5.41 20L4 18.59l7.72-7.72 1.47 1.35L5.41 20z\"/>\n",
              "  </svg>\n",
              "      </button>\n",
              "      \n",
              "  <style>\n",
              "    .colab-df-container {\n",
              "      display:flex;\n",
              "      flex-wrap:wrap;\n",
              "      gap: 12px;\n",
              "    }\n",
              "\n",
              "    .colab-df-convert {\n",
              "      background-color: #E8F0FE;\n",
              "      border: none;\n",
              "      border-radius: 50%;\n",
              "      cursor: pointer;\n",
              "      display: none;\n",
              "      fill: #1967D2;\n",
              "      height: 32px;\n",
              "      padding: 0 0 0 0;\n",
              "      width: 32px;\n",
              "    }\n",
              "\n",
              "    .colab-df-convert:hover {\n",
              "      background-color: #E2EBFA;\n",
              "      box-shadow: 0px 1px 2px rgba(60, 64, 67, 0.3), 0px 1px 3px 1px rgba(60, 64, 67, 0.15);\n",
              "      fill: #174EA6;\n",
              "    }\n",
              "\n",
              "    [theme=dark] .colab-df-convert {\n",
              "      background-color: #3B4455;\n",
              "      fill: #D2E3FC;\n",
              "    }\n",
              "\n",
              "    [theme=dark] .colab-df-convert:hover {\n",
              "      background-color: #434B5C;\n",
              "      box-shadow: 0px 1px 3px 1px rgba(0, 0, 0, 0.15);\n",
              "      filter: drop-shadow(0px 1px 2px rgba(0, 0, 0, 0.3));\n",
              "      fill: #FFFFFF;\n",
              "    }\n",
              "  </style>\n",
              "\n",
              "      <script>\n",
              "        const buttonEl =\n",
              "          document.querySelector('#df-14eab4c1-15ff-41c8-9c43-e84d9bfa0cff button.colab-df-convert');\n",
              "        buttonEl.style.display =\n",
              "          google.colab.kernel.accessAllowed ? 'block' : 'none';\n",
              "\n",
              "        async function convertToInteractive(key) {\n",
              "          const element = document.querySelector('#df-14eab4c1-15ff-41c8-9c43-e84d9bfa0cff');\n",
              "          const dataTable =\n",
              "            await google.colab.kernel.invokeFunction('convertToInteractive',\n",
              "                                                     [key], {});\n",
              "          if (!dataTable) return;\n",
              "\n",
              "          const docLinkHtml = 'Like what you see? Visit the ' +\n",
              "            '<a target=\"_blank\" href=https://colab.research.google.com/notebooks/data_table.ipynb>data table notebook</a>'\n",
              "            + ' to learn more about interactive tables.';\n",
              "          element.innerHTML = '';\n",
              "          dataTable['output_type'] = 'display_data';\n",
              "          await google.colab.output.renderOutput(dataTable, element);\n",
              "          const docLink = document.createElement('div');\n",
              "          docLink.innerHTML = docLinkHtml;\n",
              "          element.appendChild(docLink);\n",
              "        }\n",
              "      </script>\n",
              "    </div>\n",
              "  </div>\n",
              "  "
            ]
          },
          "metadata": {},
          "execution_count": 31
        }
      ],
      "source": [
        "ds.describe()"
      ]
    },
    {
      "cell_type": "markdown",
      "id": "92bb4e12",
      "metadata": {
        "id": "92bb4e12"
      },
      "source": [
        "### Distribution of salary"
      ]
    },
    {
      "cell_type": "code",
      "execution_count": 23,
      "id": "e57f21bc",
      "metadata": {
        "id": "e57f21bc",
        "outputId": "30b40bb1-c547-4447-f68c-62d65d72173c",
        "colab": {
          "base_uri": "https://localhost:8080/",
          "height": 524
        }
      },
      "outputs": [
        {
          "output_type": "execute_result",
          "data": {
            "text/plain": [
              "<seaborn.axisgrid.FacetGrid at 0x7f0724e7f100>"
            ]
          },
          "metadata": {},
          "execution_count": 23
        },
        {
          "output_type": "display_data",
          "data": {
            "text/plain": [
              "<Figure size 500x500 with 1 Axes>"
            ],
            "image/png": "[encoded data removed]"
          },
          "metadata": {}
        }
      ],
      "source": [
        "sns.displot(data=ds, x='minimum_salary', bins=20)"
      ]
    },
    {
      "cell_type": "code",
      "execution_count": 33,
      "id": "55f4852e",
      "metadata": {
        "id": "55f4852e",
        "colab": {
          "base_uri": "https://localhost:8080/",
          "height": 524
        },
        "outputId": "e0321f36-cb77-4292-954d-4e307b508188"
      },
      "outputs": [
        {
          "output_type": "execute_result",
          "data": {
            "text/plain": [
              "<seaborn.axisgrid.FacetGrid at 0x7fa2830efb50>"
            ]
          },
          "metadata": {},
          "execution_count": 33
        },
        {
          "output_type": "display_data",
          "data": {
            "text/plain": [
              "<Figure size 734x500 with 1 Axes>"
            ],
            "image/png": "[encoded data removed]"
          },
          "metadata": {}
        }
      ],
      "source": [
        "top_4_salaries = ds.groupby('job_type')['minimum_salary'].mean().sort_values(ascending=False).head(4).index.tolist()\n",
        "sns.displot(data=ds[ds['job_type'].isin(top_4_salaries)], x='minimum_salary', hue='job_type', multiple='stack', bins=20)"
      ]
    },
    {
      "cell_type": "markdown",
      "id": "f6493fc7",
      "metadata": {
        "id": "f6493fc7"
      },
      "source": [
        "### Frequency of job_type"
      ]
    },
    {
      "cell_type": "code",
      "execution_count": 34,
      "id": "9a886608",
      "metadata": {
        "id": "9a886608",
        "outputId": "426955a2-b3e2-4f5c-eefb-023051104fdf",
        "colab": {
          "base_uri": "https://localhost:8080/"
        }
      },
      "outputs": [
        {
          "output_type": "execute_result",
          "data": {
            "text/plain": [
              "fulltim                      1007\n",
              "fulltimeparttim                30\n",
              "parttim                        12\n",
              "contract                        4\n",
              "fulltimetemporar                1\n",
              "fulltimetemporarycontract       1\n",
              "fulltimeparttimetemporar        1\n",
              "mporar                          1\n",
              "fulltimecontract                1\n",
              "Name: job_type, dtype: int64"
            ]
          },
          "metadata": {},
          "execution_count": 34
        }
      ],
      "source": [
        "ds['job_type'].value_counts()"
      ]
    },
    {
      "cell_type": "code",
      "execution_count": 25,
      "id": "e90b64ae",
      "metadata": {
        "id": "e90b64ae"
      },
      "outputs": [],
      "source": [
        "from nltk.corpus import stopwords\n",
        "def preprocess_text(text):\n",
        "    # remove non-alphabetic characters\n",
        "    text = re.sub(r'[^a-zA-Z\\s]', '', text)\n",
        "    # convert to lowercase\n",
        "    text = text.lower()\n",
        "    # remove stopwords\n",
        "    stop_words = set(stopwords.words('english'))\n",
        "    words = text.split()\n",
        "    words = [w for w in words if not w in stop_words]\n",
        "    return ' '.join(words)"
      ]
    },
    {
      "cell_type": "code",
      "execution_count": 26,
      "id": "c2e20390",
      "metadata": {
        "id": "c2e20390",
        "colab": {
          "base_uri": "https://localhost:8080/",
          "height": 832
        },
        "outputId": "88f5da17-e039-4679-feec-b33418a395ac"
      },
      "outputs": [
        {
          "output_type": "execute_result",
          "data": {
            "text/plain": [
              "      Unnamed: 0                                            job_url  \\\n",
              "3              3  https://www.indeed.com//rc/clk?jk=0a50981abc1a...   \n",
              "6              6  https://www.indeed.com//rc/clk?jk=3655551ef058...   \n",
              "7              7  https://www.indeed.com//rc/clk?jk=995c41ad42cc...   \n",
              "8              8  https://www.indeed.com//pagead/clk?mo=r&ad=-6N...   \n",
              "9              9  https://www.indeed.com//rc/clk?jk=8b23ee0a06a3...   \n",
              "...          ...                                                ...   \n",
              "2068        2068  https://www.indeed.com//pagead/clk?mo=r&ad=-6N...   \n",
              "2070        2070  https://www.indeed.com//pagead/clk?mo=r&ad=-6N...   \n",
              "2071        2071  https://www.indeed.com//pagead/clk?mo=r&ad=-6N...   \n",
              "2074        2074  https://www.indeed.com//pagead/clk?mo=r&ad=-6N...   \n",
              "2078        2078  https://www.indeed.com//pagead/clk?mo=r&ad=-6N...   \n",
              "\n",
              "                           job_title  \\\n",
              "3           international accountant   \n",
              "6            staff accountant remote   \n",
              "7                   staff accountant   \n",
              "8               corporate accountant   \n",
              "9                  senior accountant   \n",
              "...                              ...   \n",
              "2068                      accountant   \n",
              "2070  corporate accountant pay up to   \n",
              "2071  corporate accountant pay up to   \n",
              "2074            corporate accountant   \n",
              "2078                staff accountant   \n",
              "\n",
              "                                                company  \\\n",
              "3                     electric power research institute   \n",
              "6                                         choice market   \n",
              "7                                      newberry library   \n",
              "8                                     campus life style   \n",
              "9                                   friday health plans   \n",
              "...                                                 ...   \n",
              "2068  international foundation of employee benefit p...   \n",
              "2070                                           ilocatum   \n",
              "2071                                           ilocatum   \n",
              "2074                                  campus life style   \n",
              "2078                             orlando science center   \n",
              "\n",
              "                       salary job_type  \\\n",
              "3     $79815 - $107985 a year  fulltim   \n",
              "6      $50000 - $70000 a year  fulltim   \n",
              "7      $60000 - $70000 a year  fulltim   \n",
              "8      $75000 - $90000 a year  fulltim   \n",
              "9      $73569 - $87422 a year  fulltim   \n",
              "...                       ...      ...   \n",
              "2068   $45000 - $55000 a year  fulltim   \n",
              "2070   $65000 - $80000 a year  fulltim   \n",
              "2071   $65000 - $80000 a year  fulltim   \n",
              "2074   $75000 - $90000 a year  fulltim   \n",
              "2078   $46000 - $48500 a year  fulltim   \n",
              "\n",
              "                                        job_description  minimum_salary  \\\n",
              "3     \\n\\n  Job Title:\\n  International Accountant\\n...           79815   \n",
              "6     \\n Choice Market is committed to making high-q...           50000   \n",
              "7     \\n\\n\\nTO APPLY: Interested candidates should a...           60000   \n",
              "8     Who We Are:\\nCampus Life & Style’s mission is ...           75000   \n",
              "9     \\nWho You Are\\n You are ready for an exciting ...           73569   \n",
              "...                                                 ...             ...   \n",
              "2068  Description:Accountant Position OverviewEntry-...           45000   \n",
              "2070  \\nCorporate Accountant\\n\\nFour years of experi...           65000   \n",
              "2071  \\nCorporate Accountant\\n\\nFour years of experi...           65000   \n",
              "2074  Who We Are:\\nCampus Life & Style’s mission is ...           75000   \n",
              "2078  Summary/ObjectiveThe Staff Accountant provides...           46000   \n",
              "\n",
              "                                           jd_processed  \n",
              "3     job title international accountant location ca...  \n",
              "6     choice market committed making highquality hea...  \n",
              "7     apply interested candidates attach cover lette...  \n",
              "8     campus life styles mission provide unparallele...  \n",
              "9     ready exciting opportunity friday health plans...  \n",
              "...                                                 ...  \n",
              "2068  descriptionaccountant position overviewentryto...  \n",
              "2070  corporate accountant four years experience acc...  \n",
              "2071  corporate accountant four years experience acc...  \n",
              "2074  campus life styles mission provide unparallele...  \n",
              "2078  summaryobjectivethe staff accountant provides ...  \n",
              "\n",
              "[1058 rows x 9 columns]"
            ],
            "text/html": [
              "\n",
              "  <div id=\"df-d78b5ec9-f96b-4123-b58a-d7eeb778e6cf\">\n",
              "    <div class=\"colab-df-container\">\n",
              "      <div>\n",
              "<style scoped>\n",
              "    .dataframe tbody tr th:only-of-type {\n",
              "        vertical-align: middle;\n",
              "    }\n",
              "\n",
              "    .dataframe tbody tr th {\n",
              "        vertical-align: top;\n",
              "    }\n",
              "\n",
              "    .dataframe thead th {\n",
              "        text-align: right;\n",
              "    }\n",
              "</style>\n",
              "<table border=\"1\" class=\"dataframe\">\n",
              "  <thead>\n",
              "    <tr style=\"text-align: right;\">\n",
              "      <th></th>\n",
              "      <th>Unnamed: 0</th>\n",
              "      <th>job_url</th>\n",
              "      <th>job_title</th>\n",
              "      <th>company</th>\n",
              "      <th>salary</th>\n",
              "      <th>job_type</th>\n",
              "      <th>job_description</th>\n",
              "      <th>minimum_salary</th>\n",
              "      <th>jd_processed</th>\n",
              "    </tr>\n",
              "  </thead>\n",
              "  <tbody>\n",
              "    <tr>\n",
              "      <th>3</th>\n",
              "      <td>3</td>\n",
              "      <td>https://www.indeed.com//rc/clk?jk=0a50981abc1a...</td>\n",
              "      <td>international accountant</td>\n",
              "      <td>electric power research institute</td>\n",
              "      <td>$79815 - $107985 a year</td>\n",
              "      <td>fulltim</td>\n",
              "      <td>\\n\\n  Job Title:\\n  International Accountant\\n...</td>\n",
              "      <td>79815</td>\n",
              "      <td>job title international accountant location ca...</td>\n",
              "    </tr>\n",
              "    <tr>\n",
              "      <th>6</th>\n",
              "      <td>6</td>\n",
              "      <td>https://www.indeed.com//rc/clk?jk=3655551ef058...</td>\n",
              "      <td>staff accountant remote</td>\n",
              "      <td>choice market</td>\n",
              "      <td>$50000 - $70000 a year</td>\n",
              "      <td>fulltim</td>\n",
              "      <td>\\n Choice Market is committed to making high-q...</td>\n",
              "      <td>50000</td>\n",
              "      <td>choice market committed making highquality hea...</td>\n",
              "    </tr>\n",
              "    <tr>\n",
              "      <th>7</th>\n",
              "      <td>7</td>\n",
              "      <td>https://www.indeed.com//rc/clk?jk=995c41ad42cc...</td>\n",
              "      <td>staff accountant</td>\n",
              "      <td>newberry library</td>\n",
              "      <td>$60000 - $70000 a year</td>\n",
              "      <td>fulltim</td>\n",
              "      <td>\\n\\n\\nTO APPLY: Interested candidates should a...</td>\n",
              "      <td>60000</td>\n",
              "      <td>apply interested candidates attach cover lette...</td>\n",
              "    </tr>\n",
              "    <tr>\n",
              "      <th>8</th>\n",
              "      <td>8</td>\n",
              "      <td>https://www.indeed.com//pagead/clk?mo=r&amp;ad=-6N...</td>\n",
              "      <td>corporate accountant</td>\n",
              "      <td>campus life style</td>\n",
              "      <td>$75000 - $90000 a year</td>\n",
              "      <td>fulltim</td>\n",
              "      <td>Who We Are:\\nCampus Life &amp; Style’s mission is ...</td>\n",
              "      <td>75000</td>\n",
              "      <td>campus life styles mission provide unparallele...</td>\n",
              "    </tr>\n",
              "    <tr>\n",
              "      <th>9</th>\n",
              "      <td>9</td>\n",
              "      <td>https://www.indeed.com//rc/clk?jk=8b23ee0a06a3...</td>\n",
              "      <td>senior accountant</td>\n",
              "      <td>friday health plans</td>\n",
              "      <td>$73569 - $87422 a year</td>\n",
              "      <td>fulltim</td>\n",
              "      <td>\\nWho You Are\\n You are ready for an exciting ...</td>\n",
              "      <td>73569</td>\n",
              "      <td>ready exciting opportunity friday health plans...</td>\n",
              "    </tr>\n",
              "    <tr>\n",
              "      <th>...</th>\n",
              "      <td>...</td>\n",
              "      <td>...</td>\n",
              "      <td>...</td>\n",
              "      <td>...</td>\n",
              "      <td>...</td>\n",
              "      <td>...</td>\n",
              "      <td>...</td>\n",
              "      <td>...</td>\n",
              "      <td>...</td>\n",
              "    </tr>\n",
              "    <tr>\n",
              "      <th>2068</th>\n",
              "      <td>2068</td>\n",
              "      <td>https://www.indeed.com//pagead/clk?mo=r&amp;ad=-6N...</td>\n",
              "      <td>accountant</td>\n",
              "      <td>international foundation of employee benefit p...</td>\n",
              "      <td>$45000 - $55000 a year</td>\n",
              "      <td>fulltim</td>\n",
              "      <td>Description:Accountant Position OverviewEntry-...</td>\n",
              "      <td>45000</td>\n",
              "      <td>descriptionaccountant position overviewentryto...</td>\n",
              "    </tr>\n",
              "    <tr>\n",
              "      <th>2070</th>\n",
              "      <td>2070</td>\n",
              "      <td>https://www.indeed.com//pagead/clk?mo=r&amp;ad=-6N...</td>\n",
              "      <td>corporate accountant pay up to</td>\n",
              "      <td>ilocatum</td>\n",
              "      <td>$65000 - $80000 a year</td>\n",
              "      <td>fulltim</td>\n",
              "      <td>\\nCorporate Accountant\\n\\nFour years of experi...</td>\n",
              "      <td>65000</td>\n",
              "      <td>corporate accountant four years experience acc...</td>\n",
              "    </tr>\n",
              "    <tr>\n",
              "      <th>2071</th>\n",
              "      <td>2071</td>\n",
              "      <td>https://www.indeed.com//pagead/clk?mo=r&amp;ad=-6N...</td>\n",
              "      <td>corporate accountant pay up to</td>\n",
              "      <td>ilocatum</td>\n",
              "      <td>$65000 - $80000 a year</td>\n",
              "      <td>fulltim</td>\n",
              "      <td>\\nCorporate Accountant\\n\\nFour years of experi...</td>\n",
              "      <td>65000</td>\n",
              "      <td>corporate accountant four years experience acc...</td>\n",
              "    </tr>\n",
              "    <tr>\n",
              "      <th>2074</th>\n",
              "      <td>2074</td>\n",
              "      <td>https://www.indeed.com//pagead/clk?mo=r&amp;ad=-6N...</td>\n",
              "      <td>corporate accountant</td>\n",
              "      <td>campus life style</td>\n",
              "      <td>$75000 - $90000 a year</td>\n",
              "      <td>fulltim</td>\n",
              "      <td>Who We Are:\\nCampus Life &amp; Style’s mission is ...</td>\n",
              "      <td>75000</td>\n",
              "      <td>campus life styles mission provide unparallele...</td>\n",
              "    </tr>\n",
              "    <tr>\n",
              "      <th>2078</th>\n",
              "      <td>2078</td>\n",
              "      <td>https://www.indeed.com//pagead/clk?mo=r&amp;ad=-6N...</td>\n",
              "      <td>staff accountant</td>\n",
              "      <td>orlando science center</td>\n",
              "      <td>$46000 - $48500 a year</td>\n",
              "      <td>fulltim</td>\n",
              "      <td>Summary/ObjectiveThe Staff Accountant provides...</td>\n",
              "      <td>46000</td>\n",
              "      <td>summaryobjectivethe staff accountant provides ...</td>\n",
              "    </tr>\n",
              "  </tbody>\n",
              "</table>\n",
              "<p>1058 rows × 9 columns</p>\n",
              "</div>\n",
              "      <button class=\"colab-df-convert\" onclick=\"convertToInteractive('df-d78b5ec9-f96b-4123-b58a-d7eeb778e6cf')\"\n",
              "              title=\"Convert this dataframe to an interactive table.\"\n",
              "              style=\"display:none;\">\n",
              "        \n",
              "  <svg xmlns=\"http://www.w3.org/2000/svg\" height=\"24px\"viewBox=\"0 0 24 24\"\n",
              "       width=\"24px\">\n",
              "    <path d=\"M0 0h24v24H0V0z\" fill=\"none\"/>\n",
              "    <path d=\"M18.56 5.44l.94 2.06.94-2.06 2.06-.94-2.06-.94-.94-2.06-.94 2.06-2.06.94zm-11 1L8.5 8.5l.94-2.06 2.06-.94-2.06-.94L8.5 2.5l-.94 2.06-2.06.94zm10 10l.94 2.06.94-2.06 2.06-.94-2.06-.94-.94-2.06-.94 2.06-2.06.94z\"/><path d=\"M17.41 7.96l-1.37-1.37c-.4-.4-.92-.59-1.43-.59-.52 0-1.04.2-1.43.59L10.3 9.45l-7.72 7.72c-.78.78-.78 2.05 0 2.83L4 21.41c.39.39.9.59 1.41.59.51 0 1.02-.2 1.41-.59l7.78-7.78 2.81-2.81c.8-.78.8-2.07 0-2.86zM5.41 20L4 18.59l7.72-7.72 1.47 1.35L5.41 20z\"/>\n",
              "  </svg>\n",
              "      </button>\n",
              "      \n",
              "  <style>\n",
              "    .colab-df-container {\n",
              "      display:flex;\n",
              "      flex-wrap:wrap;\n",
              "      gap: 12px;\n",
              "    }\n",
              "\n",
              "    .colab-df-convert {\n",
              "      background-color: #E8F0FE;\n",
              "      border: none;\n",
              "      border-radius: 50%;\n",
              "      cursor: pointer;\n",
              "      display: none;\n",
              "      fill: #1967D2;\n",
              "      height: 32px;\n",
              "      padding: 0 0 0 0;\n",
              "      width: 32px;\n",
              "    }\n",
              "\n",
              "    .colab-df-convert:hover {\n",
              "      background-color: #E2EBFA;\n",
              "      box-shadow: 0px 1px 2px rgba(60, 64, 67, 0.3), 0px 1px 3px 1px rgba(60, 64, 67, 0.15);\n",
              "      fill: #174EA6;\n",
              "    }\n",
              "\n",
              "    [theme=dark] .colab-df-convert {\n",
              "      background-color: #3B4455;\n",
              "      fill: #D2E3FC;\n",
              "    }\n",
              "\n",
              "    [theme=dark] .colab-df-convert:hover {\n",
              "      background-color: #434B5C;\n",
              "      box-shadow: 0px 1px 3px 1px rgba(0, 0, 0, 0.15);\n",
              "      filter: drop-shadow(0px 1px 2px rgba(0, 0, 0, 0.3));\n",
              "      fill: #FFFFFF;\n",
              "    }\n",
              "  </style>\n",
              "\n",
              "      <script>\n",
              "        const buttonEl =\n",
              "          document.querySelector('#df-d78b5ec9-f96b-4123-b58a-d7eeb778e6cf button.colab-df-convert');\n",
              "        buttonEl.style.display =\n",
              "          google.colab.kernel.accessAllowed ? 'block' : 'none';\n",
              "\n",
              "        async function convertToInteractive(key) {\n",
              "          const element = document.querySelector('#df-d78b5ec9-f96b-4123-b58a-d7eeb778e6cf');\n",
              "          const dataTable =\n",
              "            await google.colab.kernel.invokeFunction('convertToInteractive',\n",
              "                                                     [key], {});\n",
              "          if (!dataTable) return;\n",
              "\n",
              "          const docLinkHtml = 'Like what you see? Visit the ' +\n",
              "            '<a target=\"_blank\" href=https://colab.research.google.com/notebooks/data_table.ipynb>data table notebook</a>'\n",
              "            + ' to learn more about interactive tables.';\n",
              "          element.innerHTML = '';\n",
              "          dataTable['output_type'] = 'display_data';\n",
              "          await google.colab.output.renderOutput(dataTable, element);\n",
              "          const docLink = document.createElement('div');\n",
              "          docLink.innerHTML = docLinkHtml;\n",
              "          element.appendChild(docLink);\n",
              "        }\n",
              "      </script>\n",
              "    </div>\n",
              "  </div>\n",
              "  "
            ]
          },
          "metadata": {},
          "execution_count": 26
        }
      ],
      "source": [
        "# preprocess job description text\n",
        "ds['jd_processed'] = ds['job_description'].apply(preprocess_text)\n",
        "ds\n"
      ]
    },
    {
      "cell_type": "code",
      "execution_count": 27,
      "id": "9a9a9cc4",
      "metadata": {
        "id": "9a9a9cc4",
        "colab": {
          "base_uri": "https://localhost:8080/",
          "height": 144
        },
        "outputId": "9a9a3a8d-5883-4af5-c777-c80edcbc2d55"
      },
      "outputs": [
        {
          "output_type": "execute_result",
          "data": {
            "text/plain": [
              "\"\\n\\n  Job Title:\\n  International Accountant\\n \\n\\n   Location:\\n  California Home Office, Charlotte, NC, Maryland Home Office, New York Home Office, North Carolina Home Office, Palo Alto, CA, Remote/Home Based, Washington, D.C., Washington DC Home Office\\n \\n\\n   Job Summary and Description:\\n \\n\\n   The International Accountant's role is to support EPRI International, Inc.'s small accounting team in their ever-growing global business by providing world-class accounting, reporting, and operational support.\\n \\n\\n\\n   Key Responsibilities:\\n \\n\\n\\n\\n     Coordinate timely month-end, quarter-end, and year-end financial close processes for international entities including accurate preparation of journal entries.\\n   \\n\\n\\n     Work with Company’s external payroll, accounting, and tax partners to ensure compliance with local requirements.\\n   \\n\\n\\n     Review and process vendor and contractor invoices. Reconcile vendor accounts and payments.\\n   \\n\\n\\n     Assist with the quarterly forecast for bank funding.\\n   \\n\\n\\n     Manage the accurate reporting of the international aspects of corporate income tax and VAT returns in various countries.\\n   \\n\\n\\n     Establish and maintain procedures related to revaluation of foreign currency balances, non-USD currency translation and related adjustments.\\n   \\n\\n\\n     Prepare complex expense accruals and Intercompany chargebacks for assigned accounts.\\n   \\n\\n\\n     Reconcile and analyze assigned accounts. Review the work of others for accuracy and completeness.\\n   \\n\\n\\n     Reconciliation of intercompany balances.\\n   \\n\\n\\n     Prepare and assist in the preparation of internal and external Financial Statements. Perform variance analysis and related research.\\n   \\n\\n\\n     Support the annual external international audits as well as periodic internal audits, including the preparation of PBC schedules. Review the work papers of others.\\n   \\n\\n\\n     Identify and implement process improvements.\\n   \\n\\n\\n     Proactively identify, analyze, and resolve problems, including information systems and reports enhancements.\\n   \\n\\n\\n     Assist in developing, documenting, and ensuring adherence to published policies and procedures.\\n   \\n\\n\\n     Interpret and apply US GAAP and International GAAP and accounting control measures in the course of job performance.\\n   \\n\\n\\n     Maintain effective working relationships with internal and external customers.\\n   \\n\\n\\n     Promote continuous process improvement in all areas of responsibility.\\n   \\n\\n\\n     Assist with ad-hoc projects, as required.\\n   \\n\\n\\n\\n   Education and Experience:\\n \\n\\n\\n\\n     Require Bachelor’s degree in Accounting or Finance. MBA or CPA desirable.\\n   \\n\\n\\n     Require 8 years of related experience.\\n   \\n\\n\\n\\n   Skills and Attributes:\\n \\n\\n\\n\\n     Adapts quickly EPRI International, Inc.’s business model and its operations.\\n   \\n\\n\\n     Experiences and knowledge of international business.\\n   \\n\\n\\n     Knowledge of US GAAP, International GAAP desirable.\\n   \\n\\n\\n     Able to research and interpret accounting pronouncements and guidance with limited supervision.\\n   \\n\\n\\n     Strong interpersonal, oral, and written communication skills.\\n   \\n\\n\\n     Strong problem solving, self-motivation, and analytical skills.\\n   \\n\\n\\n     Strong computer skills, including the full Microsoft Office Suite, and ERP (preferably SAP).\\n   \\n\\n\\n     Ability to identify root causes and process roadblocks.\\n   \\n\\n\\n     Ability to perform individually and in a team atmosphere.\\n   \\n\\n\\n     Highly detail oriented and organized, able to multi-task and work under pressure.\\n   \\n\\n\\n     Ability to act independently, effectively with minimal daily supervision to accomplish objectives and meet deadlines.\\n   \\n\\n The salary range for this position is $79,815 USD to $107,985 USD annually.\\n  This salary range is an estimate, and the actual salary may vary based on various factors, including without limitation applicant's education, experience, skills, and abilities, as well as internal equity and alignment with market data. The salary may also be adjusted based on applicant's geographic location.\\n  This role is eligible to participate in EPRI’s annual incentive program. The amount of incentive varies and is subject to the terms and conditions of the plan.\\n  This role is eligible to participate in EPRI’s standard employee benefit programs, which currently include the following: medical, dental, vision, 401k, STD/LTD and paid family leave, life and accident insurance, paid time off (flexible vacation, sick leave, and holiday pay).\\n  EPRI International, Inc. participates in E-Verify, an online system operated jointly by the Department of Homeland Security and the Social Security Administration (SSA). EI uses the system to check the work status of new hires by comparing information from the employee's I-9 form against SSA and Department of Homeland Security databases. Note: To ensure compliance with U.S. export controls, please indicate your U.S. citizenship or (for foreign citizens) your U.S. visa/immigration status in your resume or cover letter. EPRI International, Inc. is an equal opportunity employer. EEO/AA/M/F/VETS/Disabled\\n\\n\""
            ],
            "application/vnd.google.colaboratory.intrinsic+json": {
              "type": "string"
            }
          },
          "metadata": {},
          "execution_count": 27
        }
      ],
      "source": [
        "ds.iloc[0].job_description\n"
      ]
    },
    {
      "cell_type": "code",
      "execution_count": 28,
      "id": "6ea8eb40",
      "metadata": {
        "id": "6ea8eb40",
        "colab": {
          "base_uri": "https://localhost:8080/",
          "height": 144
        },
        "outputId": "d171667c-d5ae-402f-dcb0-2160ff2a86d4"
      },
      "outputs": [
        {
          "output_type": "execute_result",
          "data": {
            "text/plain": [
              "'job title international accountant location california home office charlotte nc maryland home office new york home office north carolina home office palo alto ca remotehome based washington dc washington dc home office job summary description international accountants role support epri international incs small accounting team evergrowing global business providing worldclass accounting reporting operational support key responsibilities coordinate timely monthend quarterend yearend financial close processes international entities including accurate preparation journal entries work companys external payroll accounting tax partners ensure compliance local requirements review process vendor contractor invoices reconcile vendor accounts payments assist quarterly forecast bank funding manage accurate reporting international aspects corporate income tax vat returns various countries establish maintain procedures related revaluation foreign currency balances nonusd currency translation related adjustments prepare complex expense accruals intercompany chargebacks assigned accounts reconcile analyze assigned accounts review work others accuracy completeness reconciliation intercompany balances prepare assist preparation internal external financial statements perform variance analysis related research support annual external international audits well periodic internal audits including preparation pbc schedules review work papers others identify implement process improvements proactively identify analyze resolve problems including information systems reports enhancements assist developing documenting ensuring adherence published policies procedures interpret apply us gaap international gaap accounting control measures course job performance maintain effective working relationships internal external customers promote continuous process improvement areas responsibility assist adhoc projects required education experience require bachelors degree accounting finance mba cpa desirable require years related experience skills attributes adapts quickly epri international incs business model operations experiences knowledge international business knowledge us gaap international gaap desirable able research interpret accounting pronouncements guidance limited supervision strong interpersonal oral written communication skills strong problem solving selfmotivation analytical skills strong computer skills including full microsoft office suite erp preferably sap ability identify root causes process roadblocks ability perform individually team atmosphere highly detail oriented organized able multitask work pressure ability act independently effectively minimal daily supervision accomplish objectives meet deadlines salary range position usd usd annually salary range estimate actual salary may vary based various factors including without limitation applicants education experience skills abilities well internal equity alignment market data salary may also adjusted based applicants geographic location role eligible participate epris annual incentive program amount incentive varies subject terms conditions plan role eligible participate epris standard employee benefit programs currently include following medical dental vision k stdltd paid family leave life accident insurance paid time flexible vacation sick leave holiday pay epri international inc participates everify online system operated jointly department homeland security social security administration ssa ei uses system check work status new hires comparing information employees form ssa department homeland security databases note ensure compliance us export controls please indicate us citizenship foreign citizens us visaimmigration status resume cover letter epri international inc equal opportunity employer eeoaamfvetsdisabled'"
            ],
            "application/vnd.google.colaboratory.intrinsic+json": {
              "type": "string"
            }
          },
          "metadata": {},
          "execution_count": 28
        }
      ],
      "source": [
        "ds.iloc[0].jd_processed"
      ]
    },
    {
      "cell_type": "markdown",
      "id": "cb396b50",
      "metadata": {
        "id": "cb396b50"
      },
      "source": [
        "### Text analysis"
      ]
    },
    {
      "cell_type": "code",
      "execution_count": 29,
      "id": "4e2b1d40",
      "metadata": {
        "id": "4e2b1d40",
        "outputId": "c44a92ef-12fe-4158-9e4f-3a71aa8d07c0",
        "colab": {
          "base_uri": "https://localhost:8080/",
          "height": 285
        }
      },
      "outputs": [
        {
          "output_type": "display_data",
          "data": {
            "text/plain": [
              "<Figure size 640x480 with 1 Axes>"
            ],
            "image/png": "[encoded data removed]"
          },
          "metadata": {}
        }
      ],
      "source": [
        "text = ' '.join(ds['jd_processed'].tolist())\n",
        "wordcloud = WordCloud().generate(text)\n",
        "plt.imshow(wordcloud, interpolation='bilinear')\n",
        "plt.axis(\"off\")\n",
        "plt.show()"
      ]
    },
    {
      "cell_type": "code",
      "execution_count": 30,
      "id": "5e7d53f2",
      "metadata": {
        "id": "5e7d53f2"
      },
      "outputs": [],
      "source": [
        "text=list(ds['job_description'])\n",
        "text=list(ds['jd_processed'])"
      ]
    },
    {
      "cell_type": "code",
      "source": [
        "ds.head()"
      ],
      "metadata": {
        "colab": {
          "base_uri": "https://localhost:8080/",
          "height": 371
        },
        "id": "fjwN3091dakQ",
        "outputId": "52bff49a-53b8-42ac-845a-1b0cbb0e0e1f"
      },
      "id": "fjwN3091dakQ",
      "execution_count": 31,
      "outputs": [
        {
          "output_type": "execute_result",
          "data": {
            "text/plain": [
              "   Unnamed: 0                                            job_url  \\\n",
              "3           3  https://www.indeed.com//rc/clk?jk=0a50981abc1a...   \n",
              "6           6  https://www.indeed.com//rc/clk?jk=3655551ef058...   \n",
              "7           7  https://www.indeed.com//rc/clk?jk=995c41ad42cc...   \n",
              "8           8  https://www.indeed.com//pagead/clk?mo=r&ad=-6N...   \n",
              "9           9  https://www.indeed.com//rc/clk?jk=8b23ee0a06a3...   \n",
              "\n",
              "                  job_title                            company  \\\n",
              "3  international accountant  electric power research institute   \n",
              "6   staff accountant remote                      choice market   \n",
              "7          staff accountant                   newberry library   \n",
              "8      corporate accountant                  campus life style   \n",
              "9         senior accountant                friday health plans   \n",
              "\n",
              "                    salary job_type  \\\n",
              "3  $79815 - $107985 a year  fulltim   \n",
              "6   $50000 - $70000 a year  fulltim   \n",
              "7   $60000 - $70000 a year  fulltim   \n",
              "8   $75000 - $90000 a year  fulltim   \n",
              "9   $73569 - $87422 a year  fulltim   \n",
              "\n",
              "                                     job_description  minimum_salary  \\\n",
              "3  \\n\\n  Job Title:\\n  International Accountant\\n...           79815   \n",
              "6  \\n Choice Market is committed to making high-q...           50000   \n",
              "7  \\n\\n\\nTO APPLY: Interested candidates should a...           60000   \n",
              "8  Who We Are:\\nCampus Life & Style’s mission is ...           75000   \n",
              "9  \\nWho You Are\\n You are ready for an exciting ...           73569   \n",
              "\n",
              "                                        jd_processed  \n",
              "3  job title international accountant location ca...  \n",
              "6  choice market committed making highquality hea...  \n",
              "7  apply interested candidates attach cover lette...  \n",
              "8  campus life styles mission provide unparallele...  \n",
              "9  ready exciting opportunity friday health plans...  "
            ],
            "text/html": [
              "\n",
              "  <div id=\"df-0263cb6b-2ea1-4071-9112-1edaf8de08ca\">\n",
              "    <div class=\"colab-df-container\">\n",
              "      <div>\n",
              "<style scoped>\n",
              "    .dataframe tbody tr th:only-of-type {\n",
              "        vertical-align: middle;\n",
              "    }\n",
              "\n",
              "    .dataframe tbody tr th {\n",
              "        vertical-align: top;\n",
              "    }\n",
              "\n",
              "    .dataframe thead th {\n",
              "        text-align: right;\n",
              "    }\n",
              "</style>\n",
              "<table border=\"1\" class=\"dataframe\">\n",
              "  <thead>\n",
              "    <tr style=\"text-align: right;\">\n",
              "      <th></th>\n",
              "      <th>Unnamed: 0</th>\n",
              "      <th>job_url</th>\n",
              "      <th>job_title</th>\n",
              "      <th>company</th>\n",
              "      <th>salary</th>\n",
              "      <th>job_type</th>\n",
              "      <th>job_description</th>\n",
              "      <th>minimum_salary</th>\n",
              "      <th>jd_processed</th>\n",
              "    </tr>\n",
              "  </thead>\n",
              "  <tbody>\n",
              "    <tr>\n",
              "      <th>3</th>\n",
              "      <td>3</td>\n",
              "      <td>https://www.indeed.com//rc/clk?jk=0a50981abc1a...</td>\n",
              "      <td>international accountant</td>\n",
              "      <td>electric power research institute</td>\n",
              "      <td>$79815 - $107985 a year</td>\n",
              "      <td>fulltim</td>\n",
              "      <td>\\n\\n  Job Title:\\n  International Accountant\\n...</td>\n",
              "      <td>79815</td>\n",
              "      <td>job title international accountant location ca...</td>\n",
              "    </tr>\n",
              "    <tr>\n",
              "      <th>6</th>\n",
              "      <td>6</td>\n",
              "      <td>https://www.indeed.com//rc/clk?jk=3655551ef058...</td>\n",
              "      <td>staff accountant remote</td>\n",
              "      <td>choice market</td>\n",
              "      <td>$50000 - $70000 a year</td>\n",
              "      <td>fulltim</td>\n",
              "      <td>\\n Choice Market is committed to making high-q...</td>\n",
              "      <td>50000</td>\n",
              "      <td>choice market committed making highquality hea...</td>\n",
              "    </tr>\n",
              "    <tr>\n",
              "      <th>7</th>\n",
              "      <td>7</td>\n",
              "      <td>https://www.indeed.com//rc/clk?jk=995c41ad42cc...</td>\n",
              "      <td>staff accountant</td>\n",
              "      <td>newberry library</td>\n",
              "      <td>$60000 - $70000 a year</td>\n",
              "      <td>fulltim</td>\n",
              "      <td>\\n\\n\\nTO APPLY: Interested candidates should a...</td>\n",
              "      <td>60000</td>\n",
              "      <td>apply interested candidates attach cover lette...</td>\n",
              "    </tr>\n",
              "    <tr>\n",
              "      <th>8</th>\n",
              "      <td>8</td>\n",
              "      <td>https://www.indeed.com//pagead/clk?mo=r&amp;ad=-6N...</td>\n",
              "      <td>corporate accountant</td>\n",
              "      <td>campus life style</td>\n",
              "      <td>$75000 - $90000 a year</td>\n",
              "      <td>fulltim</td>\n",
              "      <td>Who We Are:\\nCampus Life &amp; Style’s mission is ...</td>\n",
              "      <td>75000</td>\n",
              "      <td>campus life styles mission provide unparallele...</td>\n",
              "    </tr>\n",
              "    <tr>\n",
              "      <th>9</th>\n",
              "      <td>9</td>\n",
              "      <td>https://www.indeed.com//rc/clk?jk=8b23ee0a06a3...</td>\n",
              "      <td>senior accountant</td>\n",
              "      <td>friday health plans</td>\n",
              "      <td>$73569 - $87422 a year</td>\n",
              "      <td>fulltim</td>\n",
              "      <td>\\nWho You Are\\n You are ready for an exciting ...</td>\n",
              "      <td>73569</td>\n",
              "      <td>ready exciting opportunity friday health plans...</td>\n",
              "    </tr>\n",
              "  </tbody>\n",
              "</table>\n",
              "</div>\n",
              "      <button class=\"colab-df-convert\" onclick=\"convertToInteractive('df-0263cb6b-2ea1-4071-9112-1edaf8de08ca')\"\n",
              "              title=\"Convert this dataframe to an interactive table.\"\n",
              "              style=\"display:none;\">\n",
              "        \n",
              "  <svg xmlns=\"http://www.w3.org/2000/svg\" height=\"24px\"viewBox=\"0 0 24 24\"\n",
              "       width=\"24px\">\n",
              "    <path d=\"M0 0h24v24H0V0z\" fill=\"none\"/>\n",
              "    <path d=\"M18.56 5.44l.94 2.06.94-2.06 2.06-.94-2.06-.94-.94-2.06-.94 2.06-2.06.94zm-11 1L8.5 8.5l.94-2.06 2.06-.94-2.06-.94L8.5 2.5l-.94 2.06-2.06.94zm10 10l.94 2.06.94-2.06 2.06-.94-2.06-.94-.94-2.06-.94 2.06-2.06.94z\"/><path d=\"M17.41 7.96l-1.37-1.37c-.4-.4-.92-.59-1.43-.59-.52 0-1.04.2-1.43.59L10.3 9.45l-7.72 7.72c-.78.78-.78 2.05 0 2.83L4 21.41c.39.39.9.59 1.41.59.51 0 1.02-.2 1.41-.59l7.78-7.78 2.81-2.81c.8-.78.8-2.07 0-2.86zM5.41 20L4 18.59l7.72-7.72 1.47 1.35L5.41 20z\"/>\n",
              "  </svg>\n",
              "      </button>\n",
              "      \n",
              "  <style>\n",
              "    .colab-df-container {\n",
              "      display:flex;\n",
              "      flex-wrap:wrap;\n",
              "      gap: 12px;\n",
              "    }\n",
              "\n",
              "    .colab-df-convert {\n",
              "      background-color: #E8F0FE;\n",
              "      border: none;\n",
              "      border-radius: 50%;\n",
              "      cursor: pointer;\n",
              "      display: none;\n",
              "      fill: #1967D2;\n",
              "      height: 32px;\n",
              "      padding: 0 0 0 0;\n",
              "      width: 32px;\n",
              "    }\n",
              "\n",
              "    .colab-df-convert:hover {\n",
              "      background-color: #E2EBFA;\n",
              "      box-shadow: 0px 1px 2px rgba(60, 64, 67, 0.3), 0px 1px 3px 1px rgba(60, 64, 67, 0.15);\n",
              "      fill: #174EA6;\n",
              "    }\n",
              "\n",
              "    [theme=dark] .colab-df-convert {\n",
              "      background-color: #3B4455;\n",
              "      fill: #D2E3FC;\n",
              "    }\n",
              "\n",
              "    [theme=dark] .colab-df-convert:hover {\n",
              "      background-color: #434B5C;\n",
              "      box-shadow: 0px 1px 3px 1px rgba(0, 0, 0, 0.15);\n",
              "      filter: drop-shadow(0px 1px 2px rgba(0, 0, 0, 0.3));\n",
              "      fill: #FFFFFF;\n",
              "    }\n",
              "  </style>\n",
              "\n",
              "      <script>\n",
              "        const buttonEl =\n",
              "          document.querySelector('#df-0263cb6b-2ea1-4071-9112-1edaf8de08ca button.colab-df-convert');\n",
              "        buttonEl.style.display =\n",
              "          google.colab.kernel.accessAllowed ? 'block' : 'none';\n",
              "\n",
              "        async function convertToInteractive(key) {\n",
              "          const element = document.querySelector('#df-0263cb6b-2ea1-4071-9112-1edaf8de08ca');\n",
              "          const dataTable =\n",
              "            await google.colab.kernel.invokeFunction('convertToInteractive',\n",
              "                                                     [key], {});\n",
              "          if (!dataTable) return;\n",
              "\n",
              "          const docLinkHtml = 'Like what you see? Visit the ' +\n",
              "            '<a target=\"_blank\" href=https://colab.research.google.com/notebooks/data_table.ipynb>data table notebook</a>'\n",
              "            + ' to learn more about interactive tables.';\n",
              "          element.innerHTML = '';\n",
              "          dataTable['output_type'] = 'display_data';\n",
              "          await google.colab.output.renderOutput(dataTable, element);\n",
              "          const docLink = document.createElement('div');\n",
              "          docLink.innerHTML = docLinkHtml;\n",
              "          element.appendChild(docLink);\n",
              "        }\n",
              "      </script>\n",
              "    </div>\n",
              "  </div>\n",
              "  "
            ]
          },
          "metadata": {},
          "execution_count": 31
        }
      ]
    },
    {
      "cell_type": "code",
      "source": [
        "!pip install textacy"
      ],
      "metadata": {
        "id": "nAAIDu-bU3Dp",
        "colab": {
          "base_uri": "https://localhost:8080/"
        },
        "outputId": "38033e81-5e43-412a-bf5f-bc9adef52e96"
      },
      "id": "nAAIDu-bU3Dp",
      "execution_count": 32,
      "outputs": [
        {
          "output_type": "stream",
          "name": "stdout",
          "text": [
            "Looking in indexes: https://pypi.org/simple, https://us-python.pkg.dev/colab-wheels/public/simple/\n",
            "Collecting textacy\n",
            "  Downloading textacy-0.13.0-py3-none-any.whl (210 kB)\n",
            "\u001b[2K     \u001b[90m━━━━━━━━━━━━━━━━━━━━━━━━━━━━━━━━━━━━━━━\u001b[0m \u001b[32m210.7/210.7 kB\u001b[0m \u001b[31m8.8 MB/s\u001b[0m eta \u001b[36m0:00:00\u001b[0m\n",
            "\u001b[?25hRequirement already satisfied: tqdm>=4.19.6 in /usr/local/lib/python3.10/dist-packages (from textacy) (4.65.0)\n",
            "Requirement already satisfied: spacy~=3.0 in /usr/local/lib/python3.10/dist-packages (from textacy) (3.5.2)\n",
            "Requirement already satisfied: requests>=2.10.0 in /usr/local/lib/python3.10/dist-packages (from textacy) (2.27.1)\n",
            "Requirement already satisfied: networkx>=2.7 in /usr/local/lib/python3.10/dist-packages (from textacy) (3.1)\n",
            "Requirement already satisfied: cachetools>=4.0.0 in /usr/local/lib/python3.10/dist-packages (from textacy) (5.3.0)\n",
            "Requirement already satisfied: scikit-learn>=1.0 in /usr/local/lib/python3.10/dist-packages (from textacy) (1.2.2)\n",
            "Requirement already satisfied: scipy>=1.8.0 in /usr/local/lib/python3.10/dist-packages (from textacy) (1.10.1)\n",
            "Collecting jellyfish>=0.8.0\n",
            "  Downloading jellyfish-0.11.2-cp310-cp310-manylinux_2_17_x86_64.manylinux2014_x86_64.whl (1.2 MB)\n",
            "\u001b[2K     \u001b[90m━━━━━━━━━━━━━━━━━━━━━━━━━━━━━━━━━━━━━━━━\u001b[0m \u001b[32m1.2/1.2 MB\u001b[0m \u001b[31m39.2 MB/s\u001b[0m eta \u001b[36m0:00:00\u001b[0m\n",
            "\u001b[?25hRequirement already satisfied: joblib>=0.13.0 in /usr/local/lib/python3.10/dist-packages (from textacy) (1.2.0)\n",
            "Collecting floret~=0.10.0\n",
            "  Downloading floret-0.10.2-cp310-cp310-manylinux_2_17_x86_64.manylinux2014_x86_64.whl (312 kB)\n",
            "\u001b[2K     \u001b[90m━━━━━━━━━━━━━━━━━━━━━━━━━━━━━━━━━━━━━━\u001b[0m \u001b[32m312.1/312.1 kB\u001b[0m \u001b[31m29.5 MB/s\u001b[0m eta \u001b[36m0:00:00\u001b[0m\n",
            "\u001b[?25hCollecting pyphen>=0.10.0\n",
            "  Downloading pyphen-0.14.0-py3-none-any.whl (2.0 MB)\n",
            "\u001b[2K     \u001b[90m━━━━━━━━━━━━━━━━━━━━━━━━━━━━━━━━━━━━━━━━\u001b[0m \u001b[32m2.0/2.0 MB\u001b[0m \u001b[31m54.8 MB/s\u001b[0m eta \u001b[36m0:00:00\u001b[0m\n",
            "\u001b[?25hRequirement already satisfied: catalogue~=2.0 in /usr/local/lib/python3.10/dist-packages (from textacy) (2.0.8)\n",
            "Collecting cytoolz>=0.10.1\n",
            "  Downloading cytoolz-0.12.1-cp310-cp310-manylinux_2_17_x86_64.manylinux2014_x86_64.whl (1.8 MB)\n",
            "\u001b[2K     \u001b[90m━━━━━━━━━━━━━━━━━━━━━━━━━━━━━━━━━━━━━━━━\u001b[0m \u001b[32m1.8/1.8 MB\u001b[0m \u001b[31m74.5 MB/s\u001b[0m eta \u001b[36m0:00:00\u001b[0m\n",
            "\u001b[?25hRequirement already satisfied: numpy>=1.17.0 in /usr/local/lib/python3.10/dist-packages (from textacy) (1.22.4)\n",
            "Requirement already satisfied: toolz>=0.8.0 in /usr/local/lib/python3.10/dist-packages (from cytoolz>=0.10.1->textacy) (0.12.0)\n",
            "Requirement already satisfied: certifi>=2017.4.17 in /usr/local/lib/python3.10/dist-packages (from requests>=2.10.0->textacy) (2022.12.7)\n",
            "Requirement already satisfied: urllib3<1.27,>=1.21.1 in /usr/local/lib/python3.10/dist-packages (from requests>=2.10.0->textacy) (1.26.15)\n",
            "Requirement already satisfied: charset-normalizer~=2.0.0 in /usr/local/lib/python3.10/dist-packages (from requests>=2.10.0->textacy) (2.0.12)\n",
            "Requirement already satisfied: idna<4,>=2.5 in /usr/local/lib/python3.10/dist-packages (from requests>=2.10.0->textacy) (3.4)\n",
            "Requirement already satisfied: threadpoolctl>=2.0.0 in /usr/local/lib/python3.10/dist-packages (from scikit-learn>=1.0->textacy) (3.1.0)\n",
            "Requirement already satisfied: smart-open<7.0.0,>=5.2.1 in /usr/local/lib/python3.10/dist-packages (from spacy~=3.0->textacy) (6.3.0)\n",
            "Requirement already satisfied: preshed<3.1.0,>=3.0.2 in /usr/local/lib/python3.10/dist-packages (from spacy~=3.0->textacy) (3.0.8)\n",
            "Requirement already satisfied: langcodes<4.0.0,>=3.2.0 in /usr/local/lib/python3.10/dist-packages (from spacy~=3.0->textacy) (3.3.0)\n",
            "Requirement already satisfied: packaging>=20.0 in /usr/local/lib/python3.10/dist-packages (from spacy~=3.0->textacy) (23.1)\n",
            "Requirement already satisfied: pathy>=0.10.0 in /usr/local/lib/python3.10/dist-packages (from spacy~=3.0->textacy) (0.10.1)\n",
            "Requirement already satisfied: typer<0.8.0,>=0.3.0 in /usr/local/lib/python3.10/dist-packages (from spacy~=3.0->textacy) (0.7.0)\n",
            "Requirement already satisfied: spacy-loggers<2.0.0,>=1.0.0 in /usr/local/lib/python3.10/dist-packages (from spacy~=3.0->textacy) (1.0.4)\n",
            "Requirement already satisfied: setuptools in /usr/local/lib/python3.10/dist-packages (from spacy~=3.0->textacy) (67.7.2)\n",
            "Requirement already satisfied: thinc<8.2.0,>=8.1.8 in /usr/local/lib/python3.10/dist-packages (from spacy~=3.0->textacy) (8.1.9)\n",
            "Requirement already satisfied: jinja2 in /usr/local/lib/python3.10/dist-packages (from spacy~=3.0->textacy) (3.1.2)\n",
            "Requirement already satisfied: murmurhash<1.1.0,>=0.28.0 in /usr/local/lib/python3.10/dist-packages (from spacy~=3.0->textacy) (1.0.9)\n",
            "Requirement already satisfied: pydantic!=1.8,!=1.8.1,<1.11.0,>=1.7.4 in /usr/local/lib/python3.10/dist-packages (from spacy~=3.0->textacy) (1.10.7)\n",
            "Requirement already satisfied: srsly<3.0.0,>=2.4.3 in /usr/local/lib/python3.10/dist-packages (from spacy~=3.0->textacy) (2.4.6)\n",
            "Requirement already satisfied: cymem<2.1.0,>=2.0.2 in /usr/local/lib/python3.10/dist-packages (from spacy~=3.0->textacy) (2.0.7)\n",
            "Requirement already satisfied: wasabi<1.2.0,>=0.9.1 in /usr/local/lib/python3.10/dist-packages (from spacy~=3.0->textacy) (1.1.1)\n",
            "Requirement already satisfied: spacy-legacy<3.1.0,>=3.0.11 in /usr/local/lib/python3.10/dist-packages (from spacy~=3.0->textacy) (3.0.12)\n",
            "Requirement already satisfied: typing-extensions>=4.2.0 in /usr/local/lib/python3.10/dist-packages (from pydantic!=1.8,!=1.8.1,<1.11.0,>=1.7.4->spacy~=3.0->textacy) (4.5.0)\n",
            "Requirement already satisfied: confection<1.0.0,>=0.0.1 in /usr/local/lib/python3.10/dist-packages (from thinc<8.2.0,>=8.1.8->spacy~=3.0->textacy) (0.0.4)\n",
            "Requirement already satisfied: blis<0.8.0,>=0.7.8 in /usr/local/lib/python3.10/dist-packages (from thinc<8.2.0,>=8.1.8->spacy~=3.0->textacy) (0.7.9)\n",
            "Requirement already satisfied: click<9.0.0,>=7.1.1 in /usr/local/lib/python3.10/dist-packages (from typer<0.8.0,>=0.3.0->spacy~=3.0->textacy) (8.1.3)\n",
            "Requirement already satisfied: MarkupSafe>=2.0 in /usr/local/lib/python3.10/dist-packages (from jinja2->spacy~=3.0->textacy) (2.1.2)\n",
            "Installing collected packages: pyphen, jellyfish, floret, cytoolz, textacy\n",
            "Successfully installed cytoolz-0.12.1 floret-0.10.2 jellyfish-0.11.2 pyphen-0.14.0 textacy-0.13.0\n"
          ]
        }
      ]
    },
    {
      "cell_type": "code",
      "source": [
        "len(text)"
      ],
      "metadata": {
        "colab": {
          "base_uri": "https://localhost:8080/"
        },
        "id": "g8yQGd2neANt",
        "outputId": "3fbc8ddf-e0f3-4e54-8f6f-22942929c977"
      },
      "id": "g8yQGd2neANt",
      "execution_count": 113,
      "outputs": [
        {
          "output_type": "execute_result",
          "data": {
            "text/plain": [
              "1058"
            ]
          },
          "metadata": {},
          "execution_count": 113
        }
      ]
    },
    {
      "cell_type": "code",
      "source": [
        "ds.head()"
      ],
      "metadata": {
        "colab": {
          "base_uri": "https://localhost:8080/",
          "height": 371
        },
        "id": "d15KQLfc9PtQ",
        "outputId": "91325679-4375-47e5-f0cf-397790110633"
      },
      "id": "d15KQLfc9PtQ",
      "execution_count": 114,
      "outputs": [
        {
          "output_type": "execute_result",
          "data": {
            "text/plain": [
              "   Unnamed: 0                                            job_url  \\\n",
              "3           3  https://www.indeed.com//rc/clk?jk=0a50981abc1a...   \n",
              "6           6  https://www.indeed.com//rc/clk?jk=3655551ef058...   \n",
              "7           7  https://www.indeed.com//rc/clk?jk=995c41ad42cc...   \n",
              "8           8  https://www.indeed.com//pagead/clk?mo=r&ad=-6N...   \n",
              "9           9  https://www.indeed.com//rc/clk?jk=8b23ee0a06a3...   \n",
              "\n",
              "                  job_title                            company  \\\n",
              "3  international accountant  electric power research institute   \n",
              "6   staff accountant remote                      choice market   \n",
              "7          staff accountant                   newberry library   \n",
              "8      corporate accountant                  campus life style   \n",
              "9         senior accountant                friday health plans   \n",
              "\n",
              "                    salary job_type  \\\n",
              "3  $79815 - $107985 a year  fulltim   \n",
              "6   $50000 - $70000 a year  fulltim   \n",
              "7   $60000 - $70000 a year  fulltim   \n",
              "8   $75000 - $90000 a year  fulltim   \n",
              "9   $73569 - $87422 a year  fulltim   \n",
              "\n",
              "                                     job_description  minimum_salary  \\\n",
              "3  \\n\\n  Job Title:\\n  International Accountant\\n...           79815   \n",
              "6  \\n Choice Market is committed to making high-q...           50000   \n",
              "7  \\n\\n\\nTO APPLY: Interested candidates should a...           60000   \n",
              "8  Who We Are:\\nCampus Life & Style’s mission is ...           75000   \n",
              "9  \\nWho You Are\\n You are ready for an exciting ...           73569   \n",
              "\n",
              "                                        jd_processed  \n",
              "3  job title international accountant location ca...  \n",
              "6  choice market committed making highquality hea...  \n",
              "7  apply interested candidates attach cover lette...  \n",
              "8  campus life styles mission provide unparallele...  \n",
              "9  ready exciting opportunity friday health plans...  "
            ],
            "text/html": [
              "\n",
              "  <div id=\"df-92f9b29f-9a64-4465-a031-f4a3f15ade58\">\n",
              "    <div class=\"colab-df-container\">\n",
              "      <div>\n",
              "<style scoped>\n",
              "    .dataframe tbody tr th:only-of-type {\n",
              "        vertical-align: middle;\n",
              "    }\n",
              "\n",
              "    .dataframe tbody tr th {\n",
              "        vertical-align: top;\n",
              "    }\n",
              "\n",
              "    .dataframe thead th {\n",
              "        text-align: right;\n",
              "    }\n",
              "</style>\n",
              "<table border=\"1\" class=\"dataframe\">\n",
              "  <thead>\n",
              "    <tr style=\"text-align: right;\">\n",
              "      <th></th>\n",
              "      <th>Unnamed: 0</th>\n",
              "      <th>job_url</th>\n",
              "      <th>job_title</th>\n",
              "      <th>company</th>\n",
              "      <th>salary</th>\n",
              "      <th>job_type</th>\n",
              "      <th>job_description</th>\n",
              "      <th>minimum_salary</th>\n",
              "      <th>jd_processed</th>\n",
              "    </tr>\n",
              "  </thead>\n",
              "  <tbody>\n",
              "    <tr>\n",
              "      <th>3</th>\n",
              "      <td>3</td>\n",
              "      <td>https://www.indeed.com//rc/clk?jk=0a50981abc1a...</td>\n",
              "      <td>international accountant</td>\n",
              "      <td>electric power research institute</td>\n",
              "      <td>$79815 - $107985 a year</td>\n",
              "      <td>fulltim</td>\n",
              "      <td>\\n\\n  Job Title:\\n  International Accountant\\n...</td>\n",
              "      <td>79815</td>\n",
              "      <td>job title international accountant location ca...</td>\n",
              "    </tr>\n",
              "    <tr>\n",
              "      <th>6</th>\n",
              "      <td>6</td>\n",
              "      <td>https://www.indeed.com//rc/clk?jk=3655551ef058...</td>\n",
              "      <td>staff accountant remote</td>\n",
              "      <td>choice market</td>\n",
              "      <td>$50000 - $70000 a year</td>\n",
              "      <td>fulltim</td>\n",
              "      <td>\\n Choice Market is committed to making high-q...</td>\n",
              "      <td>50000</td>\n",
              "      <td>choice market committed making highquality hea...</td>\n",
              "    </tr>\n",
              "    <tr>\n",
              "      <th>7</th>\n",
              "      <td>7</td>\n",
              "      <td>https://www.indeed.com//rc/clk?jk=995c41ad42cc...</td>\n",
              "      <td>staff accountant</td>\n",
              "      <td>newberry library</td>\n",
              "      <td>$60000 - $70000 a year</td>\n",
              "      <td>fulltim</td>\n",
              "      <td>\\n\\n\\nTO APPLY: Interested candidates should a...</td>\n",
              "      <td>60000</td>\n",
              "      <td>apply interested candidates attach cover lette...</td>\n",
              "    </tr>\n",
              "    <tr>\n",
              "      <th>8</th>\n",
              "      <td>8</td>\n",
              "      <td>https://www.indeed.com//pagead/clk?mo=r&amp;ad=-6N...</td>\n",
              "      <td>corporate accountant</td>\n",
              "      <td>campus life style</td>\n",
              "      <td>$75000 - $90000 a year</td>\n",
              "      <td>fulltim</td>\n",
              "      <td>Who We Are:\\nCampus Life &amp; Style’s mission is ...</td>\n",
              "      <td>75000</td>\n",
              "      <td>campus life styles mission provide unparallele...</td>\n",
              "    </tr>\n",
              "    <tr>\n",
              "      <th>9</th>\n",
              "      <td>9</td>\n",
              "      <td>https://www.indeed.com//rc/clk?jk=8b23ee0a06a3...</td>\n",
              "      <td>senior accountant</td>\n",
              "      <td>friday health plans</td>\n",
              "      <td>$73569 - $87422 a year</td>\n",
              "      <td>fulltim</td>\n",
              "      <td>\\nWho You Are\\n You are ready for an exciting ...</td>\n",
              "      <td>73569</td>\n",
              "      <td>ready exciting opportunity friday health plans...</td>\n",
              "    </tr>\n",
              "  </tbody>\n",
              "</table>\n",
              "</div>\n",
              "      <button class=\"colab-df-convert\" onclick=\"convertToInteractive('df-92f9b29f-9a64-4465-a031-f4a3f15ade58')\"\n",
              "              title=\"Convert this dataframe to an interactive table.\"\n",
              "              style=\"display:none;\">\n",
              "        \n",
              "  <svg xmlns=\"http://www.w3.org/2000/svg\" height=\"24px\"viewBox=\"0 0 24 24\"\n",
              "       width=\"24px\">\n",
              "    <path d=\"M0 0h24v24H0V0z\" fill=\"none\"/>\n",
              "    <path d=\"M18.56 5.44l.94 2.06.94-2.06 2.06-.94-2.06-.94-.94-2.06-.94 2.06-2.06.94zm-11 1L8.5 8.5l.94-2.06 2.06-.94-2.06-.94L8.5 2.5l-.94 2.06-2.06.94zm10 10l.94 2.06.94-2.06 2.06-.94-2.06-.94-.94-2.06-.94 2.06-2.06.94z\"/><path d=\"M17.41 7.96l-1.37-1.37c-.4-.4-.92-.59-1.43-.59-.52 0-1.04.2-1.43.59L10.3 9.45l-7.72 7.72c-.78.78-.78 2.05 0 2.83L4 21.41c.39.39.9.59 1.41.59.51 0 1.02-.2 1.41-.59l7.78-7.78 2.81-2.81c.8-.78.8-2.07 0-2.86zM5.41 20L4 18.59l7.72-7.72 1.47 1.35L5.41 20z\"/>\n",
              "  </svg>\n",
              "      </button>\n",
              "      \n",
              "  <style>\n",
              "    .colab-df-container {\n",
              "      display:flex;\n",
              "      flex-wrap:wrap;\n",
              "      gap: 12px;\n",
              "    }\n",
              "\n",
              "    .colab-df-convert {\n",
              "      background-color: #E8F0FE;\n",
              "      border: none;\n",
              "      border-radius: 50%;\n",
              "      cursor: pointer;\n",
              "      display: none;\n",
              "      fill: #1967D2;\n",
              "      height: 32px;\n",
              "      padding: 0 0 0 0;\n",
              "      width: 32px;\n",
              "    }\n",
              "\n",
              "    .colab-df-convert:hover {\n",
              "      background-color: #E2EBFA;\n",
              "      box-shadow: 0px 1px 2px rgba(60, 64, 67, 0.3), 0px 1px 3px 1px rgba(60, 64, 67, 0.15);\n",
              "      fill: #174EA6;\n",
              "    }\n",
              "\n",
              "    [theme=dark] .colab-df-convert {\n",
              "      background-color: #3B4455;\n",
              "      fill: #D2E3FC;\n",
              "    }\n",
              "\n",
              "    [theme=dark] .colab-df-convert:hover {\n",
              "      background-color: #434B5C;\n",
              "      box-shadow: 0px 1px 3px 1px rgba(0, 0, 0, 0.15);\n",
              "      filter: drop-shadow(0px 1px 2px rgba(0, 0, 0, 0.3));\n",
              "      fill: #FFFFFF;\n",
              "    }\n",
              "  </style>\n",
              "\n",
              "      <script>\n",
              "        const buttonEl =\n",
              "          document.querySelector('#df-92f9b29f-9a64-4465-a031-f4a3f15ade58 button.colab-df-convert');\n",
              "        buttonEl.style.display =\n",
              "          google.colab.kernel.accessAllowed ? 'block' : 'none';\n",
              "\n",
              "        async function convertToInteractive(key) {\n",
              "          const element = document.querySelector('#df-92f9b29f-9a64-4465-a031-f4a3f15ade58');\n",
              "          const dataTable =\n",
              "            await google.colab.kernel.invokeFunction('convertToInteractive',\n",
              "                                                     [key], {});\n",
              "          if (!dataTable) return;\n",
              "\n",
              "          const docLinkHtml = 'Like what you see? Visit the ' +\n",
              "            '<a target=\"_blank\" href=https://colab.research.google.com/notebooks/data_table.ipynb>data table notebook</a>'\n",
              "            + ' to learn more about interactive tables.';\n",
              "          element.innerHTML = '';\n",
              "          dataTable['output_type'] = 'display_data';\n",
              "          await google.colab.output.renderOutput(dataTable, element);\n",
              "          const docLink = document.createElement('div');\n",
              "          docLink.innerHTML = docLinkHtml;\n",
              "          element.appendChild(docLink);\n",
              "        }\n",
              "      </script>\n",
              "    </div>\n",
              "  </div>\n",
              "  "
            ]
          },
          "metadata": {},
          "execution_count": 114
        }
      ]
    },
    {
      "cell_type": "code",
      "source": [
        "df = ds.drop_duplicates(subset=['job_description'])"
      ],
      "metadata": {
        "id": "gOgl7qpO9RQd"
      },
      "id": "gOgl7qpO9RQd",
      "execution_count": 34,
      "outputs": []
    },
    {
      "cell_type": "code",
      "execution_count": 33,
      "id": "785887a4",
      "metadata": {
        "id": "785887a4",
        "outputId": "62c8eb38-8182-436b-a2e5-837d88bc8e0e",
        "colab": {
          "base_uri": "https://localhost:8080/"
        }
      },
      "outputs": [
        {
          "output_type": "stream",
          "name": "stdout",
          "text": [
            "['aa' 'aapeeo' 'aba' ... 'zones' 'zoom' 'zpqdzhqted']\n",
            "(1058, 8822)\n"
          ]
        }
      ],
      "source": [
        "corpus =text\n",
        "vectorizer = TfidfVectorizer()\n",
        "X =  vectorizer.fit_transform(corpus)\n",
        "print(vectorizer.get_feature_names_out())\n",
        "print(X.shape)"
      ]
    },
    {
      "cell_type": "code",
      "execution_count": 36,
      "id": "b6a77a02",
      "metadata": {
        "colab": {
          "base_uri": "https://localhost:8080/"
        },
        "id": "b6a77a02",
        "outputId": "acfd3508-8d9a-4803-b2d1-b40f32a3b3ce"
      },
      "outputs": [
        {
          "output_type": "stream",
          "name": "stdout",
          "text": [
            "['abilities' 'ability' 'able' ... 'york' 'youll' 'youre']\n",
            "(1058, 2000)\n"
          ]
        }
      ],
      "source": [
        "n_features = 2000\n",
        "corpus =text\n",
        "vectorizer = TfidfVectorizer(max_df=0.95, min_df=2, max_features=n_features, stop_words=\"english\")\n",
        "X =  vectorizer.fit_transform(corpus)\n",
        "print(vectorizer.get_feature_names_out())\n",
        "print(X.shape)"
      ]
    },
    {
      "cell_type": "code",
      "source": [
        "X"
      ],
      "metadata": {
        "colab": {
          "base_uri": "https://localhost:8080/"
        },
        "id": "cXiWQcmFdlJ4",
        "outputId": "1a11525c-5a6b-4bde-8b6b-0f187c70cd46"
      },
      "id": "cXiWQcmFdlJ4",
      "execution_count": 38,
      "outputs": [
        {
          "output_type": "execute_result",
          "data": {
            "text/plain": [
              "<1058x2000 sparse matrix of type '<class 'numpy.float64'>'\n",
              "\twith 200927 stored elements in Compressed Sparse Row format>"
            ]
          },
          "metadata": {},
          "execution_count": 38
        }
      ]
    },
    {
      "cell_type": "markdown",
      "source": [
        "#TFIDF Vectorizer\n"
      ],
      "metadata": {
        "id": "FvpjZPz4mUNw"
      },
      "id": "FvpjZPz4mUNw"
    },
    {
      "cell_type": "code",
      "source": [
        "from sklearn.feature_extraction.text import TfidfVectorizer\n",
        "from time import time\n",
        "vectorizer = TfidfVectorizer(\n",
        "    max_df=0.5,\n",
        "    min_df=5,\n",
        "    stop_words=\"english\",\n",
        ")\n",
        "t0 = time()\n",
        "X_tfidf = vectorizer.fit_transform(corpus)\n",
        "\n",
        "print(f\"vectorization done in {time() - t0:.3f} s\")\n",
        "print(f\"n_samples: {X_tfidf.shape[0]}, n_features: {X_tfidf.shape[1]}\")\n"
      ],
      "metadata": {
        "colab": {
          "base_uri": "https://localhost:8080/"
        },
        "id": "lSAEKci-fjSv",
        "outputId": "dce05a58-b6a0-44be-891c-66d01ab1edf6"
      },
      "id": "lSAEKci-fjSv",
      "execution_count": 37,
      "outputs": [
        {
          "output_type": "stream",
          "name": "stdout",
          "text": [
            "vectorization done in 0.612 s\n",
            "n_samples: 1058, n_features: 2774\n"
          ]
        }
      ]
    },
    {
      "cell_type": "code",
      "source": [
        "wnl = stem.WordNetLemmatizer()\n",
        "porter = stem.porter.PorterStemmer()\n",
        "nlp = spacy.load('en_core_web_sm')\n",
        "stopwords = spacy.lang.en.stop_words.STOP_WORDS\n",
        "punctuations = string.punctuation\n",
        "parser = English()"
      ],
      "metadata": {
        "id": "O1HZu_5GQ5Sd"
      },
      "id": "O1HZu_5GQ5Sd",
      "execution_count": 39,
      "outputs": []
    },
    {
      "cell_type": "code",
      "source": [
        "jd = list(ds['job_description'])"
      ],
      "metadata": {
        "id": "qvRa8xF7RXPL"
      },
      "id": "qvRa8xF7RXPL",
      "execution_count": 40,
      "outputs": []
    },
    {
      "cell_type": "code",
      "source": [
        "jd[0]"
      ],
      "metadata": {
        "colab": {
          "base_uri": "https://localhost:8080/",
          "height": 144
        },
        "id": "BYj3fTpJRqMg",
        "outputId": "c5eb0428-6cbb-4caa-93ec-f106ec6dedc0"
      },
      "id": "BYj3fTpJRqMg",
      "execution_count": 42,
      "outputs": [
        {
          "output_type": "execute_result",
          "data": {
            "text/plain": [
              "\"\\n\\n  Job Title:\\n  International Accountant\\n \\n\\n   Location:\\n  California Home Office, Charlotte, NC, Maryland Home Office, New York Home Office, North Carolina Home Office, Palo Alto, CA, Remote/Home Based, Washington, D.C., Washington DC Home Office\\n \\n\\n   Job Summary and Description:\\n \\n\\n   The International Accountant's role is to support EPRI International, Inc.'s small accounting team in their ever-growing global business by providing world-class accounting, reporting, and operational support.\\n \\n\\n\\n   Key Responsibilities:\\n \\n\\n\\n\\n     Coordinate timely month-end, quarter-end, and year-end financial close processes for international entities including accurate preparation of journal entries.\\n   \\n\\n\\n     Work with Company’s external payroll, accounting, and tax partners to ensure compliance with local requirements.\\n   \\n\\n\\n     Review and process vendor and contractor invoices. Reconcile vendor accounts and payments.\\n   \\n\\n\\n     Assist with the quarterly forecast for bank funding.\\n   \\n\\n\\n     Manage the accurate reporting of the international aspects of corporate income tax and VAT returns in various countries.\\n   \\n\\n\\n     Establish and maintain procedures related to revaluation of foreign currency balances, non-USD currency translation and related adjustments.\\n   \\n\\n\\n     Prepare complex expense accruals and Intercompany chargebacks for assigned accounts.\\n   \\n\\n\\n     Reconcile and analyze assigned accounts. Review the work of others for accuracy and completeness.\\n   \\n\\n\\n     Reconciliation of intercompany balances.\\n   \\n\\n\\n     Prepare and assist in the preparation of internal and external Financial Statements. Perform variance analysis and related research.\\n   \\n\\n\\n     Support the annual external international audits as well as periodic internal audits, including the preparation of PBC schedules. Review the work papers of others.\\n   \\n\\n\\n     Identify and implement process improvements.\\n   \\n\\n\\n     Proactively identify, analyze, and resolve problems, including information systems and reports enhancements.\\n   \\n\\n\\n     Assist in developing, documenting, and ensuring adherence to published policies and procedures.\\n   \\n\\n\\n     Interpret and apply US GAAP and International GAAP and accounting control measures in the course of job performance.\\n   \\n\\n\\n     Maintain effective working relationships with internal and external customers.\\n   \\n\\n\\n     Promote continuous process improvement in all areas of responsibility.\\n   \\n\\n\\n     Assist with ad-hoc projects, as required.\\n   \\n\\n\\n\\n   Education and Experience:\\n \\n\\n\\n\\n     Require Bachelor’s degree in Accounting or Finance. MBA or CPA desirable.\\n   \\n\\n\\n     Require 8 years of related experience.\\n   \\n\\n\\n\\n   Skills and Attributes:\\n \\n\\n\\n\\n     Adapts quickly EPRI International, Inc.’s business model and its operations.\\n   \\n\\n\\n     Experiences and knowledge of international business.\\n   \\n\\n\\n     Knowledge of US GAAP, International GAAP desirable.\\n   \\n\\n\\n     Able to research and interpret accounting pronouncements and guidance with limited supervision.\\n   \\n\\n\\n     Strong interpersonal, oral, and written communication skills.\\n   \\n\\n\\n     Strong problem solving, self-motivation, and analytical skills.\\n   \\n\\n\\n     Strong computer skills, including the full Microsoft Office Suite, and ERP (preferably SAP).\\n   \\n\\n\\n     Ability to identify root causes and process roadblocks.\\n   \\n\\n\\n     Ability to perform individually and in a team atmosphere.\\n   \\n\\n\\n     Highly detail oriented and organized, able to multi-task and work under pressure.\\n   \\n\\n\\n     Ability to act independently, effectively with minimal daily supervision to accomplish objectives and meet deadlines.\\n   \\n\\n The salary range for this position is $79,815 USD to $107,985 USD annually.\\n  This salary range is an estimate, and the actual salary may vary based on various factors, including without limitation applicant's education, experience, skills, and abilities, as well as internal equity and alignment with market data. The salary may also be adjusted based on applicant's geographic location.\\n  This role is eligible to participate in EPRI’s annual incentive program. The amount of incentive varies and is subject to the terms and conditions of the plan.\\n  This role is eligible to participate in EPRI’s standard employee benefit programs, which currently include the following: medical, dental, vision, 401k, STD/LTD and paid family leave, life and accident insurance, paid time off (flexible vacation, sick leave, and holiday pay).\\n  EPRI International, Inc. participates in E-Verify, an online system operated jointly by the Department of Homeland Security and the Social Security Administration (SSA). EI uses the system to check the work status of new hires by comparing information from the employee's I-9 form against SSA and Department of Homeland Security databases. Note: To ensure compliance with U.S. export controls, please indicate your U.S. citizenship or (for foreign citizens) your U.S. visa/immigration status in your resume or cover letter. EPRI International, Inc. is an equal opportunity employer. EEO/AA/M/F/VETS/Disabled\\n\\n\""
            ],
            "application/vnd.google.colaboratory.intrinsic+json": {
              "type": "string"
            }
          },
          "metadata": {},
          "execution_count": 42
        }
      ]
    },
    {
      "cell_type": "code",
      "source": [
        "description_text_words = [nltk.word_tokenize(text) for text in jd]"
      ],
      "metadata": {
        "id": "4XekXsfFRHJ-"
      },
      "id": "4XekXsfFRHJ-",
      "execution_count": 43,
      "outputs": []
    },
    {
      "cell_type": "code",
      "source": [
        "# splitting each text in words to perform lemmatization and stemming\n",
        "description_text_lem = [[wnl.lemmatize(word) for word in text] for text in description_text_words]\n",
        "description_text_stem = [[porter.stem(word) for word in text] for text in description_text_words]"
      ],
      "metadata": {
        "id": "uQbOcdH_R0Ml"
      },
      "id": "uQbOcdH_R0Ml",
      "execution_count": 44,
      "outputs": []
    },
    {
      "cell_type": "code",
      "source": [
        "#Lemmatization using spacy\n",
        "def spacy_tokenizer(sentence):\n",
        "    sentence=re.sub(r'\\sR(?=\\W?\\s?)(?!\\w)',' Rlanguage ',sentence)\n",
        "    # Creating our token object, which is used to create documents with linguistic annotations.\n",
        "    mytokens = nlp(sentence)\n",
        "    # Lemmatizing each token and converting each token into lowercase\n",
        "    mytokens = [ word.lemma_.lower().strip() if word.lemma_ != \"-PRON-\" else word.lower_ for word in mytokens ]\n",
        "    # Removing stop words\n",
        "    mytokens = [ word for word in mytokens if word not in stopwords and word not in punctuations ] # corrected stopwords\n",
        "    # return preprocessed list of tokens\n",
        "    return mytokens\n",
        "\n",
        "description_text_lem_spacy = [spacy_tokenizer(text) for text in jd]\n"
      ],
      "metadata": {
        "id": "pm_mYmKyR4AY"
      },
      "id": "pm_mYmKyR4AY",
      "execution_count": 50,
      "outputs": []
    },
    {
      "cell_type": "code",
      "source": [
        "# Re-joining the lists into a text\n",
        "separator = ' '\n",
        "descriptions_lem = [separator.join(text) for text in description_text_lem]\n",
        "descriptions_stem = [separator.join(text) for text in description_text_stem]\n",
        "descriptions_lem_spacy = [separator.join(text) for text in description_text_lem_spacy]"
      ],
      "metadata": {
        "id": "KJgrvM1ETtig"
      },
      "id": "KJgrvM1ETtig",
      "execution_count": 51,
      "outputs": []
    },
    {
      "cell_type": "code",
      "source": [
        "jd[0][20:130]"
      ],
      "metadata": {
        "colab": {
          "base_uri": "https://localhost:8080/",
          "height": 36
        },
        "id": "OZ0nLEkCTy7I",
        "outputId": "8327b3e6-065a-4f31-aa62-b51eee3a5e0c"
      },
      "id": "OZ0nLEkCTy7I",
      "execution_count": 46,
      "outputs": [
        {
          "output_type": "execute_result",
          "data": {
            "text/plain": [
              "'ernational Accountant\\n \\n\\n   Location:\\n  California Home Office, Charlotte, NC, Maryland Home Office, New York '"
            ],
            "application/vnd.google.colaboratory.intrinsic+json": {
              "type": "string"
            }
          },
          "metadata": {},
          "execution_count": 46
        }
      ]
    },
    {
      "cell_type": "code",
      "source": [
        "descriptions_stem[0][20:130]"
      ],
      "metadata": {
        "colab": {
          "base_uri": "https://localhost:8080/",
          "height": 36
        },
        "id": "Z0yiY57oTz1-",
        "outputId": "244af13d-2e2e-4f15-9665-0d7c90bd71b1"
      },
      "id": "Z0yiY57oTz1-",
      "execution_count": 47,
      "outputs": [
        {
          "output_type": "execute_result",
          "data": {
            "text/plain": [
              "'count locat : california home offic , charlott , nc , maryland home offic , new york home offic , north caroli'"
            ],
            "application/vnd.google.colaboratory.intrinsic+json": {
              "type": "string"
            }
          },
          "metadata": {},
          "execution_count": 47
        }
      ]
    },
    {
      "cell_type": "code",
      "source": [
        "basic_sentence=jd[0][28:148]\n",
        "lemmatized_sentence=[wnl.lemmatize(word, pos = 'v') for word in basic_sentence.split()]\n",
        "separator.join(lemmatized_sentence)"
      ],
      "metadata": {
        "colab": {
          "base_uri": "https://localhost:8080/",
          "height": 36
        },
        "id": "l6sMo7gXT43p",
        "outputId": "a4f7fe94-ac4b-48ba-f63f-b920b79558ca"
      },
      "id": "l6sMo7gXT43p",
      "execution_count": 52,
      "outputs": [
        {
          "output_type": "execute_result",
          "data": {
            "text/plain": [
              "'al Accountant Location: California Home Office, Charlotte, NC, Maryland Home Office, New York Home Office, North'"
            ],
            "application/vnd.google.colaboratory.intrinsic+json": {
              "type": "string"
            }
          },
          "metadata": {},
          "execution_count": 52
        }
      ]
    },
    {
      "cell_type": "code",
      "source": [
        "print(\"spoken :\", wnl.lemmatize(\"spoken\", pos = 'v')) \n",
        "print(\"corpora :\", wnl.lemmatize(\"corpora\")) \n",
        "\n",
        "# a denotes adjective in \"pos\" \n",
        "print(\"better :\", wnl.lemmatize(\"better\", pos =\"a\")) "
      ],
      "metadata": {
        "colab": {
          "base_uri": "https://localhost:8080/"
        },
        "id": "OGA43grOT8Oo",
        "outputId": "b9f17693-df2c-40c3-d808-01811752ae6e"
      },
      "id": "OGA43grOT8Oo",
      "execution_count": 53,
      "outputs": [
        {
          "output_type": "stream",
          "name": "stdout",
          "text": [
            "spoken : speak\n",
            "corpora : corpus\n",
            "better : good\n"
          ]
        }
      ]
    },
    {
      "cell_type": "code",
      "source": [
        "vectorizer = TfidfVectorizer(input='content', stop_words='english')\n",
        "dtm = vectorizer.fit_transform(descriptions_lem_spacy).toarray()\n",
        "vocab = np.array(vectorizer.get_feature_names_out())\n",
        "#vectorizer = TfidfVectorizer()\n",
        "#X = vectorizer.fit_transform(corpus)\n",
        "#print(vectorizer.get_feature_names_out())\n",
        "\n",
        "dtm.shape, len(vocab)"
      ],
      "metadata": {
        "colab": {
          "base_uri": "https://localhost:8080/"
        },
        "id": "YDe59dcjT_B3",
        "outputId": "0bf47160-8107-438e-efff-a0e1b9c1e9cf"
      },
      "id": "YDe59dcjT_B3",
      "execution_count": 54,
      "outputs": [
        {
          "output_type": "execute_result",
          "data": {
            "text/plain": [
              "((1058, 6839), 6839)"
            ]
          },
          "metadata": {},
          "execution_count": 54
        }
      ]
    },
    {
      "cell_type": "code",
      "source": [
        "type(vocab)"
      ],
      "metadata": {
        "colab": {
          "base_uri": "https://localhost:8080/"
        },
        "id": "dlUGAVFDUC8J",
        "outputId": "ca5e818a-85b0-4719-bb4b-bc91ebd355a0"
      },
      "id": "dlUGAVFDUC8J",
      "execution_count": 55,
      "outputs": [
        {
          "output_type": "execute_result",
          "data": {
            "text/plain": [
              "numpy.ndarray"
            ]
          },
          "metadata": {},
          "execution_count": 55
        }
      ]
    },
    {
      "cell_type": "code",
      "source": [
        "vocab[5220]"
      ],
      "metadata": {
        "colab": {
          "base_uri": "https://localhost:8080/",
          "height": 36
        },
        "id": "f7GSGWyuWagm",
        "outputId": "e1dbf7fd-499b-4ea8-a1ff-8f78303261bc"
      },
      "id": "f7GSGWyuWagm",
      "execution_count": 56,
      "outputs": [
        {
          "output_type": "execute_result",
          "data": {
            "text/plain": [
              "'redondo'"
            ],
            "application/vnd.google.colaboratory.intrinsic+json": {
              "type": "string"
            }
          },
          "metadata": {},
          "execution_count": 56
        }
      ]
    },
    {
      "cell_type": "code",
      "source": [
        "'rlanguage' in vocab"
      ],
      "metadata": {
        "colab": {
          "base_uri": "https://localhost:8080/"
        },
        "id": "N4yKs2S-Wfa4",
        "outputId": "94e3f194-ecc6-4c93-8068-c67502f32d7a"
      },
      "id": "N4yKs2S-Wfa4",
      "execution_count": 57,
      "outputs": [
        {
          "output_type": "execute_result",
          "data": {
            "text/plain": [
              "True"
            ]
          },
          "metadata": {},
          "execution_count": 57
        }
      ]
    },
    {
      "cell_type": "code",
      "source": [
        "dtm"
      ],
      "metadata": {
        "colab": {
          "base_uri": "https://localhost:8080/"
        },
        "id": "Jl4yYVhhWjUx",
        "outputId": "1a8309cd-5041-4a0d-92f1-a12857e36f82"
      },
      "id": "Jl4yYVhhWjUx",
      "execution_count": 161,
      "outputs": [
        {
          "output_type": "execute_result",
          "data": {
            "text/plain": [
              "array([[0.        , 0.        , 0.        , ..., 0.        , 0.        ,\n",
              "        0.        ],\n",
              "       [0.        , 0.05215376, 0.        , ..., 0.        , 0.        ,\n",
              "        0.        ],\n",
              "       [0.03379168, 0.01537941, 0.        , ..., 0.        , 0.        ,\n",
              "        0.        ],\n",
              "       ...,\n",
              "       [0.        , 0.06281834, 0.        , ..., 0.        , 0.        ,\n",
              "        0.        ],\n",
              "       [0.06785845, 0.06176804, 0.        , ..., 0.        , 0.        ,\n",
              "        0.        ],\n",
              "       [0.056057  , 0.02551289, 0.        , ..., 0.        , 0.        ,\n",
              "        0.        ]])"
            ]
          },
          "metadata": {},
          "execution_count": 161
        }
      ]
    },
    {
      "cell_type": "code",
      "source": [
        "scores = {'Words': vocab,'Scores':sum(dtm)}\n",
        "word_scores = pd.DataFrame(data = scores)\n",
        "word_scores.sort_values(by = ['Scores'],inplace = True, ascending = False)"
      ],
      "metadata": {
        "id": "U5hwzXxPWpZE"
      },
      "id": "U5hwzXxPWpZE",
      "execution_count": 58,
      "outputs": []
    },
    {
      "cell_type": "code",
      "source": [
        "word_scores[0:20]"
      ],
      "metadata": {
        "colab": {
          "base_uri": "https://localhost:8080/",
          "height": 676
        },
        "id": "5vkTq4YnWsPg",
        "outputId": "2169281e-1b1d-43a0-a747-b7dcc87befde"
      },
      "id": "5vkTq4YnWsPg",
      "execution_count": 59,
      "outputs": [
        {
          "output_type": "execute_result",
          "data": {
            "text/plain": [
              "           Words      Scores\n",
              "6121         tax  122.823613\n",
              "482   accounting   81.092293\n",
              "2596  experience   76.643035\n",
              "6768        work   69.798226\n",
              "3462   insurance   61.880469\n",
              "4615     payroll   59.056046\n",
              "1535     company   55.282366\n",
              "6814        year   52.082533\n",
              "3342     include   50.795265\n",
              "2359    employee   47.597887\n",
              "2731   financial   47.122755\n",
              "3122        head   46.353006\n",
              "6233        time   44.666654\n",
              "471      account   44.655919\n",
              "5322      report   44.476422\n",
              "476   accountant   44.386207\n",
              "5909       start   43.880208\n",
              "5346     require   42.456783\n",
              "3912     manager   40.006708\n",
              "4936     process   39.671098"
            ],
            "text/html": [
              "\n",
              "  <div id=\"df-7f8b8841-4b31-4374-b4cb-8d2b560a31c7\">\n",
              "    <div class=\"colab-df-container\">\n",
              "      <div>\n",
              "<style scoped>\n",
              "    .dataframe tbody tr th:only-of-type {\n",
              "        vertical-align: middle;\n",
              "    }\n",
              "\n",
              "    .dataframe tbody tr th {\n",
              "        vertical-align: top;\n",
              "    }\n",
              "\n",
              "    .dataframe thead th {\n",
              "        text-align: right;\n",
              "    }\n",
              "</style>\n",
              "<table border=\"1\" class=\"dataframe\">\n",
              "  <thead>\n",
              "    <tr style=\"text-align: right;\">\n",
              "      <th></th>\n",
              "      <th>Words</th>\n",
              "      <th>Scores</th>\n",
              "    </tr>\n",
              "  </thead>\n",
              "  <tbody>\n",
              "    <tr>\n",
              "      <th>6121</th>\n",
              "      <td>tax</td>\n",
              "      <td>122.823613</td>\n",
              "    </tr>\n",
              "    <tr>\n",
              "      <th>482</th>\n",
              "      <td>accounting</td>\n",
              "      <td>81.092293</td>\n",
              "    </tr>\n",
              "    <tr>\n",
              "      <th>2596</th>\n",
              "      <td>experience</td>\n",
              "      <td>76.643035</td>\n",
              "    </tr>\n",
              "    <tr>\n",
              "      <th>6768</th>\n",
              "      <td>work</td>\n",
              "      <td>69.798226</td>\n",
              "    </tr>\n",
              "    <tr>\n",
              "      <th>3462</th>\n",
              "      <td>insurance</td>\n",
              "      <td>61.880469</td>\n",
              "    </tr>\n",
              "    <tr>\n",
              "      <th>4615</th>\n",
              "      <td>payroll</td>\n",
              "      <td>59.056046</td>\n",
              "    </tr>\n",
              "    <tr>\n",
              "      <th>1535</th>\n",
              "      <td>company</td>\n",
              "      <td>55.282366</td>\n",
              "    </tr>\n",
              "    <tr>\n",
              "      <th>6814</th>\n",
              "      <td>year</td>\n",
              "      <td>52.082533</td>\n",
              "    </tr>\n",
              "    <tr>\n",
              "      <th>3342</th>\n",
              "      <td>include</td>\n",
              "      <td>50.795265</td>\n",
              "    </tr>\n",
              "    <tr>\n",
              "      <th>2359</th>\n",
              "      <td>employee</td>\n",
              "      <td>47.597887</td>\n",
              "    </tr>\n",
              "    <tr>\n",
              "      <th>2731</th>\n",
              "      <td>financial</td>\n",
              "      <td>47.122755</td>\n",
              "    </tr>\n",
              "    <tr>\n",
              "      <th>3122</th>\n",
              "      <td>head</td>\n",
              "      <td>46.353006</td>\n",
              "    </tr>\n",
              "    <tr>\n",
              "      <th>6233</th>\n",
              "      <td>time</td>\n",
              "      <td>44.666654</td>\n",
              "    </tr>\n",
              "    <tr>\n",
              "      <th>471</th>\n",
              "      <td>account</td>\n",
              "      <td>44.655919</td>\n",
              "    </tr>\n",
              "    <tr>\n",
              "      <th>5322</th>\n",
              "      <td>report</td>\n",
              "      <td>44.476422</td>\n",
              "    </tr>\n",
              "    <tr>\n",
              "      <th>476</th>\n",
              "      <td>accountant</td>\n",
              "      <td>44.386207</td>\n",
              "    </tr>\n",
              "    <tr>\n",
              "      <th>5909</th>\n",
              "      <td>start</td>\n",
              "      <td>43.880208</td>\n",
              "    </tr>\n",
              "    <tr>\n",
              "      <th>5346</th>\n",
              "      <td>require</td>\n",
              "      <td>42.456783</td>\n",
              "    </tr>\n",
              "    <tr>\n",
              "      <th>3912</th>\n",
              "      <td>manager</td>\n",
              "      <td>40.006708</td>\n",
              "    </tr>\n",
              "    <tr>\n",
              "      <th>4936</th>\n",
              "      <td>process</td>\n",
              "      <td>39.671098</td>\n",
              "    </tr>\n",
              "  </tbody>\n",
              "</table>\n",
              "</div>\n",
              "      <button class=\"colab-df-convert\" onclick=\"convertToInteractive('df-7f8b8841-4b31-4374-b4cb-8d2b560a31c7')\"\n",
              "              title=\"Convert this dataframe to an interactive table.\"\n",
              "              style=\"display:none;\">\n",
              "        \n",
              "  <svg xmlns=\"http://www.w3.org/2000/svg\" height=\"24px\"viewBox=\"0 0 24 24\"\n",
              "       width=\"24px\">\n",
              "    <path d=\"M0 0h24v24H0V0z\" fill=\"none\"/>\n",
              "    <path d=\"M18.56 5.44l.94 2.06.94-2.06 2.06-.94-2.06-.94-.94-2.06-.94 2.06-2.06.94zm-11 1L8.5 8.5l.94-2.06 2.06-.94-2.06-.94L8.5 2.5l-.94 2.06-2.06.94zm10 10l.94 2.06.94-2.06 2.06-.94-2.06-.94-.94-2.06-.94 2.06-2.06.94z\"/><path d=\"M17.41 7.96l-1.37-1.37c-.4-.4-.92-.59-1.43-.59-.52 0-1.04.2-1.43.59L10.3 9.45l-7.72 7.72c-.78.78-.78 2.05 0 2.83L4 21.41c.39.39.9.59 1.41.59.51 0 1.02-.2 1.41-.59l7.78-7.78 2.81-2.81c.8-.78.8-2.07 0-2.86zM5.41 20L4 18.59l7.72-7.72 1.47 1.35L5.41 20z\"/>\n",
              "  </svg>\n",
              "      </button>\n",
              "      \n",
              "  <style>\n",
              "    .colab-df-container {\n",
              "      display:flex;\n",
              "      flex-wrap:wrap;\n",
              "      gap: 12px;\n",
              "    }\n",
              "\n",
              "    .colab-df-convert {\n",
              "      background-color: #E8F0FE;\n",
              "      border: none;\n",
              "      border-radius: 50%;\n",
              "      cursor: pointer;\n",
              "      display: none;\n",
              "      fill: #1967D2;\n",
              "      height: 32px;\n",
              "      padding: 0 0 0 0;\n",
              "      width: 32px;\n",
              "    }\n",
              "\n",
              "    .colab-df-convert:hover {\n",
              "      background-color: #E2EBFA;\n",
              "      box-shadow: 0px 1px 2px rgba(60, 64, 67, 0.3), 0px 1px 3px 1px rgba(60, 64, 67, 0.15);\n",
              "      fill: #174EA6;\n",
              "    }\n",
              "\n",
              "    [theme=dark] .colab-df-convert {\n",
              "      background-color: #3B4455;\n",
              "      fill: #D2E3FC;\n",
              "    }\n",
              "\n",
              "    [theme=dark] .colab-df-convert:hover {\n",
              "      background-color: #434B5C;\n",
              "      box-shadow: 0px 1px 3px 1px rgba(0, 0, 0, 0.15);\n",
              "      filter: drop-shadow(0px 1px 2px rgba(0, 0, 0, 0.3));\n",
              "      fill: #FFFFFF;\n",
              "    }\n",
              "  </style>\n",
              "\n",
              "      <script>\n",
              "        const buttonEl =\n",
              "          document.querySelector('#df-7f8b8841-4b31-4374-b4cb-8d2b560a31c7 button.colab-df-convert');\n",
              "        buttonEl.style.display =\n",
              "          google.colab.kernel.accessAllowed ? 'block' : 'none';\n",
              "\n",
              "        async function convertToInteractive(key) {\n",
              "          const element = document.querySelector('#df-7f8b8841-4b31-4374-b4cb-8d2b560a31c7');\n",
              "          const dataTable =\n",
              "            await google.colab.kernel.invokeFunction('convertToInteractive',\n",
              "                                                     [key], {});\n",
              "          if (!dataTable) return;\n",
              "\n",
              "          const docLinkHtml = 'Like what you see? Visit the ' +\n",
              "            '<a target=\"_blank\" href=https://colab.research.google.com/notebooks/data_table.ipynb>data table notebook</a>'\n",
              "            + ' to learn more about interactive tables.';\n",
              "          element.innerHTML = '';\n",
              "          dataTable['output_type'] = 'display_data';\n",
              "          await google.colab.output.renderOutput(dataTable, element);\n",
              "          const docLink = document.createElement('div');\n",
              "          docLink.innerHTML = docLinkHtml;\n",
              "          element.appendChild(docLink);\n",
              "        }\n",
              "      </script>\n",
              "    </div>\n",
              "  </div>\n",
              "  "
            ]
          },
          "metadata": {},
          "execution_count": 59
        }
      ]
    },
    {
      "cell_type": "code",
      "source": [
        "technical_skills = [\n",
        "    \"Java\",\n",
        "    \"Python\",\n",
        "    \"JavaScript\",\n",
        "    \"C#\",\n",
        "    \"C++\",\n",
        "    \"PHP\",\n",
        "    \"Ruby\",\n",
        "    \"Swift\",\n",
        "    \"Kotlin\",\n",
        "    \"Objective-C\",\n",
        "    \"SQL\",\n",
        "    \"MySQL\",\n",
        "    \"PostgreSQL\",\n",
        "    \"MongoDB\",\n",
        "    \"Oracle\",\n",
        "    \"Microsoft SQL Server\",\n",
        "    \"Amazon Web Services\",\n",
        "    \"Microsoft Azure\",\n",
        "    \"Google Cloud Platform\",\n",
        "    \"Docker\",\n",
        "    \"Kubernetes\",\n",
        "    \"Ansible\",\n",
        "    \"Chef\",\n",
        "    \"Puppet\",\n",
        "    \"Jenkins\",\n",
        "    \"Git\",\n",
        "    \"Subversion\",\n",
        "    \"Apache\",\n",
        "    \"Nginx\",\n",
        "    \"Microsoft Office\",\n",
        "    \"Salesforce\",\n",
        "    \"SAP\",\n",
        "    \"Oracle E-Business Suite\",\n",
        "    \"Adobe Creative Suite\",\n",
        "    \"Sketch\",\n",
        "    \"Figma\",\n",
        "    \"QuickBooks\",\n",
        "    \"Xero\",\n",
        "    \"Sage\",\n",
        "    \"Zoho Books\",\n",
        "    \"Wave\",\n",
        "    \"FreshBooks\",\n",
        "    \"Tally\",\n",
        "    \"FreeAgent\",\n",
        "    \"Bill.com\",\n",
        "    \"Expensify\",\n",
        "    \"Receipt Bank\",\n",
        "    \"BlackLine\",\n",
        "    \"Adaptive Insights\",\n",
        "    \"FloQast\",\n",
        "    \"Trintech\",\n",
        "    \"OnPay\",\n",
        "    \"Gusto\"\n",
        "]"
      ],
      "metadata": {
        "id": "Ac8FLzcKXLWL"
      },
      "id": "Ac8FLzcKXLWL",
      "execution_count": 60,
      "outputs": []
    },
    {
      "cell_type": "code",
      "source": [
        "tskills = [x.lower() for x in technical_skills]"
      ],
      "metadata": {
        "id": "epu4UsIWXXQ9"
      },
      "id": "epu4UsIWXXQ9",
      "execution_count": 61,
      "outputs": []
    },
    {
      "cell_type": "code",
      "source": [
        "top_technical_skills = word_scores[word_scores.Words.isin(tskills)]"
      ],
      "metadata": {
        "id": "KXYXg-LwXNtd"
      },
      "id": "KXYXg-LwXNtd",
      "execution_count": 62,
      "outputs": []
    },
    {
      "cell_type": "code",
      "source": [
        "features_indexes = word_scores[word_scores.Words.isin(tskills)].index"
      ],
      "metadata": {
        "id": "u3sqvPbaX-6K"
      },
      "id": "u3sqvPbaX-6K",
      "execution_count": 63,
      "outputs": []
    },
    {
      "cell_type": "code",
      "source": [
        "factors_matrix = dtm[:,features_indexes]"
      ],
      "metadata": {
        "id": "wuA-5ZNCYJk9"
      },
      "id": "wuA-5ZNCYJk9",
      "execution_count": 64,
      "outputs": []
    },
    {
      "cell_type": "code",
      "source": [
        "personality_skills = ['Organizational skills',\n",
        " 'Creativity',\n",
        " 'Open-mindedness',\n",
        " 'Communication',\n",
        " 'Interpersonal skills',\n",
        " 'Dependability',\n",
        " 'Problem-solving',\n",
        " 'Communication skills',\n",
        " 'Conflict resolution',\n",
        " 'Initiative',\n",
        " 'Adaptability',\n",
        " 'Accuracy',\n",
        " 'Analytical thinking',\n",
        " 'Work ethic',\n",
        " 'Self-motivation',\n",
        " 'Teamwork',\n",
        " 'Leadership',\n",
        " 'Resilience',\n",
        " 'Reliability',\n",
        " 'Flexibility',\n",
        " 'Integrity',\n",
        " 'Time management',\n",
        " 'Detail-oriented',\n",
        " 'Positive attitude',\n",
        " 'Trustworthiness',\n",
        " 'Critical thinking',\n",
        " 'Empathy']"
      ],
      "metadata": {
        "id": "_aSqHkY_V5Qe"
      },
      "id": "_aSqHkY_V5Qe",
      "execution_count": 65,
      "outputs": []
    },
    {
      "cell_type": "code",
      "source": [
        "accounting_skills = ['Account reconciliation', 'Accounts payable', 'Accounts receivable', 'Auditing', 'Bookkeeping', 'Budgeting', 'Financial analysis', 'Financial reporting', 'GAAP', 'Journal entries', 'Payroll processing', 'Tax preparation', 'Variance analysis', 'Cost accounting', 'Internal controls', 'Sarbanes-Oxley compliance', 'ERP systems', 'IFRS', 'Risk management']"
      ],
      "metadata": {
        "id": "1-knlI_w__-d"
      },
      "id": "1-knlI_w__-d",
      "execution_count": 66,
      "outputs": []
    },
    {
      "cell_type": "code",
      "source": [
        "askills = [x.lower() for x in accounting_skills]"
      ],
      "metadata": {
        "id": "_pfeLW0YAGdQ"
      },
      "id": "_pfeLW0YAGdQ",
      "execution_count": 67,
      "outputs": []
    },
    {
      "cell_type": "code",
      "source": [
        "pskills = [x.lower() for x in personality_skills]"
      ],
      "metadata": {
        "id": "jgIymIOuWBYh"
      },
      "id": "jgIymIOuWBYh",
      "execution_count": 68,
      "outputs": []
    },
    {
      "cell_type": "code",
      "source": [
        "top_personality_skills = word_scores[word_scores.Words.isin(pskills)]"
      ],
      "metadata": {
        "id": "Fc0r0rgYW34B"
      },
      "id": "Fc0r0rgYW34B",
      "execution_count": 69,
      "outputs": []
    },
    {
      "cell_type": "code",
      "source": [
        "top_technical_skills"
      ],
      "metadata": {
        "colab": {
          "base_uri": "https://localhost:8080/",
          "height": 488
        },
        "id": "a2Yp5ybNXNC-",
        "outputId": "05daaebf-e5c7-4ae1-f7a8-c8f96662435e"
      },
      "id": "a2Yp5ybNXNC-",
      "execution_count": 70,
      "outputs": [
        {
          "output_type": "execute_result",
          "data": {
            "text/plain": [
              "           Words     Scores\n",
              "5099  quickbooks  15.891257\n",
              "5549         sap   4.603773\n",
              "5528        sage   1.458696\n",
              "4461      oracle   0.944146\n",
              "5536  salesforce   0.799920\n",
              "2593   expensify   0.613310\n",
              "6807        xero   0.571601\n",
              "3072       gusto   0.320166\n",
              "2771     floqast   0.268299\n",
              "5878         sql   0.212753\n",
              "1073   blackline   0.104309\n",
              "5065      python   0.061380\n",
              "4705         php   0.043851\n",
              "6686        wave   0.041935"
            ],
            "text/html": [
              "\n",
              "  <div id=\"df-98eec40a-d40a-4fa4-8ab5-4537268e2f87\">\n",
              "    <div class=\"colab-df-container\">\n",
              "      <div>\n",
              "<style scoped>\n",
              "    .dataframe tbody tr th:only-of-type {\n",
              "        vertical-align: middle;\n",
              "    }\n",
              "\n",
              "    .dataframe tbody tr th {\n",
              "        vertical-align: top;\n",
              "    }\n",
              "\n",
              "    .dataframe thead th {\n",
              "        text-align: right;\n",
              "    }\n",
              "</style>\n",
              "<table border=\"1\" class=\"dataframe\">\n",
              "  <thead>\n",
              "    <tr style=\"text-align: right;\">\n",
              "      <th></th>\n",
              "      <th>Words</th>\n",
              "      <th>Scores</th>\n",
              "    </tr>\n",
              "  </thead>\n",
              "  <tbody>\n",
              "    <tr>\n",
              "      <th>5099</th>\n",
              "      <td>quickbooks</td>\n",
              "      <td>15.891257</td>\n",
              "    </tr>\n",
              "    <tr>\n",
              "      <th>5549</th>\n",
              "      <td>sap</td>\n",
              "      <td>4.603773</td>\n",
              "    </tr>\n",
              "    <tr>\n",
              "      <th>5528</th>\n",
              "      <td>sage</td>\n",
              "      <td>1.458696</td>\n",
              "    </tr>\n",
              "    <tr>\n",
              "      <th>4461</th>\n",
              "      <td>oracle</td>\n",
              "      <td>0.944146</td>\n",
              "    </tr>\n",
              "    <tr>\n",
              "      <th>5536</th>\n",
              "      <td>salesforce</td>\n",
              "      <td>0.799920</td>\n",
              "    </tr>\n",
              "    <tr>\n",
              "      <th>2593</th>\n",
              "      <td>expensify</td>\n",
              "      <td>0.613310</td>\n",
              "    </tr>\n",
              "    <tr>\n",
              "      <th>6807</th>\n",
              "      <td>xero</td>\n",
              "      <td>0.571601</td>\n",
              "    </tr>\n",
              "    <tr>\n",
              "      <th>3072</th>\n",
              "      <td>gusto</td>\n",
              "      <td>0.320166</td>\n",
              "    </tr>\n",
              "    <tr>\n",
              "      <th>2771</th>\n",
              "      <td>floqast</td>\n",
              "      <td>0.268299</td>\n",
              "    </tr>\n",
              "    <tr>\n",
              "      <th>5878</th>\n",
              "      <td>sql</td>\n",
              "      <td>0.212753</td>\n",
              "    </tr>\n",
              "    <tr>\n",
              "      <th>1073</th>\n",
              "      <td>blackline</td>\n",
              "      <td>0.104309</td>\n",
              "    </tr>\n",
              "    <tr>\n",
              "      <th>5065</th>\n",
              "      <td>python</td>\n",
              "      <td>0.061380</td>\n",
              "    </tr>\n",
              "    <tr>\n",
              "      <th>4705</th>\n",
              "      <td>php</td>\n",
              "      <td>0.043851</td>\n",
              "    </tr>\n",
              "    <tr>\n",
              "      <th>6686</th>\n",
              "      <td>wave</td>\n",
              "      <td>0.041935</td>\n",
              "    </tr>\n",
              "  </tbody>\n",
              "</table>\n",
              "</div>\n",
              "      <button class=\"colab-df-convert\" onclick=\"convertToInteractive('df-98eec40a-d40a-4fa4-8ab5-4537268e2f87')\"\n",
              "              title=\"Convert this dataframe to an interactive table.\"\n",
              "              style=\"display:none;\">\n",
              "        \n",
              "  <svg xmlns=\"http://www.w3.org/2000/svg\" height=\"24px\"viewBox=\"0 0 24 24\"\n",
              "       width=\"24px\">\n",
              "    <path d=\"M0 0h24v24H0V0z\" fill=\"none\"/>\n",
              "    <path d=\"M18.56 5.44l.94 2.06.94-2.06 2.06-.94-2.06-.94-.94-2.06-.94 2.06-2.06.94zm-11 1L8.5 8.5l.94-2.06 2.06-.94-2.06-.94L8.5 2.5l-.94 2.06-2.06.94zm10 10l.94 2.06.94-2.06 2.06-.94-2.06-.94-.94-2.06-.94 2.06-2.06.94z\"/><path d=\"M17.41 7.96l-1.37-1.37c-.4-.4-.92-.59-1.43-.59-.52 0-1.04.2-1.43.59L10.3 9.45l-7.72 7.72c-.78.78-.78 2.05 0 2.83L4 21.41c.39.39.9.59 1.41.59.51 0 1.02-.2 1.41-.59l7.78-7.78 2.81-2.81c.8-.78.8-2.07 0-2.86zM5.41 20L4 18.59l7.72-7.72 1.47 1.35L5.41 20z\"/>\n",
              "  </svg>\n",
              "      </button>\n",
              "      \n",
              "  <style>\n",
              "    .colab-df-container {\n",
              "      display:flex;\n",
              "      flex-wrap:wrap;\n",
              "      gap: 12px;\n",
              "    }\n",
              "\n",
              "    .colab-df-convert {\n",
              "      background-color: #E8F0FE;\n",
              "      border: none;\n",
              "      border-radius: 50%;\n",
              "      cursor: pointer;\n",
              "      display: none;\n",
              "      fill: #1967D2;\n",
              "      height: 32px;\n",
              "      padding: 0 0 0 0;\n",
              "      width: 32px;\n",
              "    }\n",
              "\n",
              "    .colab-df-convert:hover {\n",
              "      background-color: #E2EBFA;\n",
              "      box-shadow: 0px 1px 2px rgba(60, 64, 67, 0.3), 0px 1px 3px 1px rgba(60, 64, 67, 0.15);\n",
              "      fill: #174EA6;\n",
              "    }\n",
              "\n",
              "    [theme=dark] .colab-df-convert {\n",
              "      background-color: #3B4455;\n",
              "      fill: #D2E3FC;\n",
              "    }\n",
              "\n",
              "    [theme=dark] .colab-df-convert:hover {\n",
              "      background-color: #434B5C;\n",
              "      box-shadow: 0px 1px 3px 1px rgba(0, 0, 0, 0.15);\n",
              "      filter: drop-shadow(0px 1px 2px rgba(0, 0, 0, 0.3));\n",
              "      fill: #FFFFFF;\n",
              "    }\n",
              "  </style>\n",
              "\n",
              "      <script>\n",
              "        const buttonEl =\n",
              "          document.querySelector('#df-98eec40a-d40a-4fa4-8ab5-4537268e2f87 button.colab-df-convert');\n",
              "        buttonEl.style.display =\n",
              "          google.colab.kernel.accessAllowed ? 'block' : 'none';\n",
              "\n",
              "        async function convertToInteractive(key) {\n",
              "          const element = document.querySelector('#df-98eec40a-d40a-4fa4-8ab5-4537268e2f87');\n",
              "          const dataTable =\n",
              "            await google.colab.kernel.invokeFunction('convertToInteractive',\n",
              "                                                     [key], {});\n",
              "          if (!dataTable) return;\n",
              "\n",
              "          const docLinkHtml = 'Like what you see? Visit the ' +\n",
              "            '<a target=\"_blank\" href=https://colab.research.google.com/notebooks/data_table.ipynb>data table notebook</a>'\n",
              "            + ' to learn more about interactive tables.';\n",
              "          element.innerHTML = '';\n",
              "          dataTable['output_type'] = 'display_data';\n",
              "          await google.colab.output.renderOutput(dataTable, element);\n",
              "          const docLink = document.createElement('div');\n",
              "          docLink.innerHTML = docLinkHtml;\n",
              "          element.appendChild(docLink);\n",
              "        }\n",
              "      </script>\n",
              "    </div>\n",
              "  </div>\n",
              "  "
            ]
          },
          "metadata": {},
          "execution_count": 70
        }
      ]
    },
    {
      "cell_type": "code",
      "source": [
        "top_personality_skills"
      ],
      "metadata": {
        "colab": {
          "base_uri": "https://localhost:8080/",
          "height": 456
        },
        "id": "p4VVwJ6OXNrV",
        "outputId": "decdb33f-e815-46f8-caca-4175c96d2a22"
      },
      "id": "p4VVwJ6OXNrV",
      "execution_count": 71,
      "outputs": [
        {
          "output_type": "execute_result",
          "data": {
            "text/plain": [
              "                Words     Scores\n",
              "494          accuracy  15.981799\n",
              "1525    communication  15.721663\n",
              "3418       initiative   9.088726\n",
              "3714       leadership   7.250472\n",
              "6143         teamwork   7.009142\n",
              "3475        integrity   4.846023\n",
              "5276      reliability   3.428383\n",
              "537      adaptability   3.024841\n",
              "2763      flexibility   1.698265\n",
              "1816       creativity   0.663475\n",
              "6353  trustworthiness   0.161786\n",
              "2015    dependability   0.155849\n",
              "2356          empathy   0.074660"
            ],
            "text/html": [
              "\n",
              "  <div id=\"df-aa27678a-1be5-4268-883c-4bb4a63b4335\">\n",
              "    <div class=\"colab-df-container\">\n",
              "      <div>\n",
              "<style scoped>\n",
              "    .dataframe tbody tr th:only-of-type {\n",
              "        vertical-align: middle;\n",
              "    }\n",
              "\n",
              "    .dataframe tbody tr th {\n",
              "        vertical-align: top;\n",
              "    }\n",
              "\n",
              "    .dataframe thead th {\n",
              "        text-align: right;\n",
              "    }\n",
              "</style>\n",
              "<table border=\"1\" class=\"dataframe\">\n",
              "  <thead>\n",
              "    <tr style=\"text-align: right;\">\n",
              "      <th></th>\n",
              "      <th>Words</th>\n",
              "      <th>Scores</th>\n",
              "    </tr>\n",
              "  </thead>\n",
              "  <tbody>\n",
              "    <tr>\n",
              "      <th>494</th>\n",
              "      <td>accuracy</td>\n",
              "      <td>15.981799</td>\n",
              "    </tr>\n",
              "    <tr>\n",
              "      <th>1525</th>\n",
              "      <td>communication</td>\n",
              "      <td>15.721663</td>\n",
              "    </tr>\n",
              "    <tr>\n",
              "      <th>3418</th>\n",
              "      <td>initiative</td>\n",
              "      <td>9.088726</td>\n",
              "    </tr>\n",
              "    <tr>\n",
              "      <th>3714</th>\n",
              "      <td>leadership</td>\n",
              "      <td>7.250472</td>\n",
              "    </tr>\n",
              "    <tr>\n",
              "      <th>6143</th>\n",
              "      <td>teamwork</td>\n",
              "      <td>7.009142</td>\n",
              "    </tr>\n",
              "    <tr>\n",
              "      <th>3475</th>\n",
              "      <td>integrity</td>\n",
              "      <td>4.846023</td>\n",
              "    </tr>\n",
              "    <tr>\n",
              "      <th>5276</th>\n",
              "      <td>reliability</td>\n",
              "      <td>3.428383</td>\n",
              "    </tr>\n",
              "    <tr>\n",
              "      <th>537</th>\n",
              "      <td>adaptability</td>\n",
              "      <td>3.024841</td>\n",
              "    </tr>\n",
              "    <tr>\n",
              "      <th>2763</th>\n",
              "      <td>flexibility</td>\n",
              "      <td>1.698265</td>\n",
              "    </tr>\n",
              "    <tr>\n",
              "      <th>1816</th>\n",
              "      <td>creativity</td>\n",
              "      <td>0.663475</td>\n",
              "    </tr>\n",
              "    <tr>\n",
              "      <th>6353</th>\n",
              "      <td>trustworthiness</td>\n",
              "      <td>0.161786</td>\n",
              "    </tr>\n",
              "    <tr>\n",
              "      <th>2015</th>\n",
              "      <td>dependability</td>\n",
              "      <td>0.155849</td>\n",
              "    </tr>\n",
              "    <tr>\n",
              "      <th>2356</th>\n",
              "      <td>empathy</td>\n",
              "      <td>0.074660</td>\n",
              "    </tr>\n",
              "  </tbody>\n",
              "</table>\n",
              "</div>\n",
              "      <button class=\"colab-df-convert\" onclick=\"convertToInteractive('df-aa27678a-1be5-4268-883c-4bb4a63b4335')\"\n",
              "              title=\"Convert this dataframe to an interactive table.\"\n",
              "              style=\"display:none;\">\n",
              "        \n",
              "  <svg xmlns=\"http://www.w3.org/2000/svg\" height=\"24px\"viewBox=\"0 0 24 24\"\n",
              "       width=\"24px\">\n",
              "    <path d=\"M0 0h24v24H0V0z\" fill=\"none\"/>\n",
              "    <path d=\"M18.56 5.44l.94 2.06.94-2.06 2.06-.94-2.06-.94-.94-2.06-.94 2.06-2.06.94zm-11 1L8.5 8.5l.94-2.06 2.06-.94-2.06-.94L8.5 2.5l-.94 2.06-2.06.94zm10 10l.94 2.06.94-2.06 2.06-.94-2.06-.94-.94-2.06-.94 2.06-2.06.94z\"/><path d=\"M17.41 7.96l-1.37-1.37c-.4-.4-.92-.59-1.43-.59-.52 0-1.04.2-1.43.59L10.3 9.45l-7.72 7.72c-.78.78-.78 2.05 0 2.83L4 21.41c.39.39.9.59 1.41.59.51 0 1.02-.2 1.41-.59l7.78-7.78 2.81-2.81c.8-.78.8-2.07 0-2.86zM5.41 20L4 18.59l7.72-7.72 1.47 1.35L5.41 20z\"/>\n",
              "  </svg>\n",
              "      </button>\n",
              "      \n",
              "  <style>\n",
              "    .colab-df-container {\n",
              "      display:flex;\n",
              "      flex-wrap:wrap;\n",
              "      gap: 12px;\n",
              "    }\n",
              "\n",
              "    .colab-df-convert {\n",
              "      background-color: #E8F0FE;\n",
              "      border: none;\n",
              "      border-radius: 50%;\n",
              "      cursor: pointer;\n",
              "      display: none;\n",
              "      fill: #1967D2;\n",
              "      height: 32px;\n",
              "      padding: 0 0 0 0;\n",
              "      width: 32px;\n",
              "    }\n",
              "\n",
              "    .colab-df-convert:hover {\n",
              "      background-color: #E2EBFA;\n",
              "      box-shadow: 0px 1px 2px rgba(60, 64, 67, 0.3), 0px 1px 3px 1px rgba(60, 64, 67, 0.15);\n",
              "      fill: #174EA6;\n",
              "    }\n",
              "\n",
              "    [theme=dark] .colab-df-convert {\n",
              "      background-color: #3B4455;\n",
              "      fill: #D2E3FC;\n",
              "    }\n",
              "\n",
              "    [theme=dark] .colab-df-convert:hover {\n",
              "      background-color: #434B5C;\n",
              "      box-shadow: 0px 1px 3px 1px rgba(0, 0, 0, 0.15);\n",
              "      filter: drop-shadow(0px 1px 2px rgba(0, 0, 0, 0.3));\n",
              "      fill: #FFFFFF;\n",
              "    }\n",
              "  </style>\n",
              "\n",
              "      <script>\n",
              "        const buttonEl =\n",
              "          document.querySelector('#df-aa27678a-1be5-4268-883c-4bb4a63b4335 button.colab-df-convert');\n",
              "        buttonEl.style.display =\n",
              "          google.colab.kernel.accessAllowed ? 'block' : 'none';\n",
              "\n",
              "        async function convertToInteractive(key) {\n",
              "          const element = document.querySelector('#df-aa27678a-1be5-4268-883c-4bb4a63b4335');\n",
              "          const dataTable =\n",
              "            await google.colab.kernel.invokeFunction('convertToInteractive',\n",
              "                                                     [key], {});\n",
              "          if (!dataTable) return;\n",
              "\n",
              "          const docLinkHtml = 'Like what you see? Visit the ' +\n",
              "            '<a target=\"_blank\" href=https://colab.research.google.com/notebooks/data_table.ipynb>data table notebook</a>'\n",
              "            + ' to learn more about interactive tables.';\n",
              "          element.innerHTML = '';\n",
              "          dataTable['output_type'] = 'display_data';\n",
              "          await google.colab.output.renderOutput(dataTable, element);\n",
              "          const docLink = document.createElement('div');\n",
              "          docLink.innerHTML = docLinkHtml;\n",
              "          element.appendChild(docLink);\n",
              "        }\n",
              "      </script>\n",
              "    </div>\n",
              "  </div>\n",
              "  "
            ]
          },
          "metadata": {},
          "execution_count": 71
        }
      ]
    },
    {
      "cell_type": "code",
      "source": [
        "top_accounting_skills = word_scores[word_scores.Words.isin(askills)]"
      ],
      "metadata": {
        "id": "9v1nd27KAcJG"
      },
      "id": "9v1nd27KAcJG",
      "execution_count": 72,
      "outputs": []
    },
    {
      "cell_type": "code",
      "source": [
        "top_accounting_skills"
      ],
      "metadata": {
        "colab": {
          "base_uri": "https://localhost:8080/",
          "height": 206
        },
        "id": "SRikjNNzEyRe",
        "outputId": "4811834c-4e9c-4593-e59a-c8f2a1c27557"
      },
      "id": "SRikjNNzEyRe",
      "execution_count": 76,
      "outputs": [
        {
          "output_type": "execute_result",
          "data": {
            "text/plain": [
              "            Words     Scores\n",
              "2922         gaap  15.492907\n",
              "1101  bookkeeping   6.867387\n",
              "3278         ifrs   5.785876\n",
              "900      auditing   4.293080\n",
              "1163    budgeting   3.694267"
            ],
            "text/html": [
              "\n",
              "  <div id=\"df-da68c1e7-b364-4141-b2b5-52680e3a5bf8\">\n",
              "    <div class=\"colab-df-container\">\n",
              "      <div>\n",
              "<style scoped>\n",
              "    .dataframe tbody tr th:only-of-type {\n",
              "        vertical-align: middle;\n",
              "    }\n",
              "\n",
              "    .dataframe tbody tr th {\n",
              "        vertical-align: top;\n",
              "    }\n",
              "\n",
              "    .dataframe thead th {\n",
              "        text-align: right;\n",
              "    }\n",
              "</style>\n",
              "<table border=\"1\" class=\"dataframe\">\n",
              "  <thead>\n",
              "    <tr style=\"text-align: right;\">\n",
              "      <th></th>\n",
              "      <th>Words</th>\n",
              "      <th>Scores</th>\n",
              "    </tr>\n",
              "  </thead>\n",
              "  <tbody>\n",
              "    <tr>\n",
              "      <th>2922</th>\n",
              "      <td>gaap</td>\n",
              "      <td>15.492907</td>\n",
              "    </tr>\n",
              "    <tr>\n",
              "      <th>1101</th>\n",
              "      <td>bookkeeping</td>\n",
              "      <td>6.867387</td>\n",
              "    </tr>\n",
              "    <tr>\n",
              "      <th>3278</th>\n",
              "      <td>ifrs</td>\n",
              "      <td>5.785876</td>\n",
              "    </tr>\n",
              "    <tr>\n",
              "      <th>900</th>\n",
              "      <td>auditing</td>\n",
              "      <td>4.293080</td>\n",
              "    </tr>\n",
              "    <tr>\n",
              "      <th>1163</th>\n",
              "      <td>budgeting</td>\n",
              "      <td>3.694267</td>\n",
              "    </tr>\n",
              "  </tbody>\n",
              "</table>\n",
              "</div>\n",
              "      <button class=\"colab-df-convert\" onclick=\"convertToInteractive('df-da68c1e7-b364-4141-b2b5-52680e3a5bf8')\"\n",
              "              title=\"Convert this dataframe to an interactive table.\"\n",
              "              style=\"display:none;\">\n",
              "        \n",
              "  <svg xmlns=\"http://www.w3.org/2000/svg\" height=\"24px\"viewBox=\"0 0 24 24\"\n",
              "       width=\"24px\">\n",
              "    <path d=\"M0 0h24v24H0V0z\" fill=\"none\"/>\n",
              "    <path d=\"M18.56 5.44l.94 2.06.94-2.06 2.06-.94-2.06-.94-.94-2.06-.94 2.06-2.06.94zm-11 1L8.5 8.5l.94-2.06 2.06-.94-2.06-.94L8.5 2.5l-.94 2.06-2.06.94zm10 10l.94 2.06.94-2.06 2.06-.94-2.06-.94-.94-2.06-.94 2.06-2.06.94z\"/><path d=\"M17.41 7.96l-1.37-1.37c-.4-.4-.92-.59-1.43-.59-.52 0-1.04.2-1.43.59L10.3 9.45l-7.72 7.72c-.78.78-.78 2.05 0 2.83L4 21.41c.39.39.9.59 1.41.59.51 0 1.02-.2 1.41-.59l7.78-7.78 2.81-2.81c.8-.78.8-2.07 0-2.86zM5.41 20L4 18.59l7.72-7.72 1.47 1.35L5.41 20z\"/>\n",
              "  </svg>\n",
              "      </button>\n",
              "      \n",
              "  <style>\n",
              "    .colab-df-container {\n",
              "      display:flex;\n",
              "      flex-wrap:wrap;\n",
              "      gap: 12px;\n",
              "    }\n",
              "\n",
              "    .colab-df-convert {\n",
              "      background-color: #E8F0FE;\n",
              "      border: none;\n",
              "      border-radius: 50%;\n",
              "      cursor: pointer;\n",
              "      display: none;\n",
              "      fill: #1967D2;\n",
              "      height: 32px;\n",
              "      padding: 0 0 0 0;\n",
              "      width: 32px;\n",
              "    }\n",
              "\n",
              "    .colab-df-convert:hover {\n",
              "      background-color: #E2EBFA;\n",
              "      box-shadow: 0px 1px 2px rgba(60, 64, 67, 0.3), 0px 1px 3px 1px rgba(60, 64, 67, 0.15);\n",
              "      fill: #174EA6;\n",
              "    }\n",
              "\n",
              "    [theme=dark] .colab-df-convert {\n",
              "      background-color: #3B4455;\n",
              "      fill: #D2E3FC;\n",
              "    }\n",
              "\n",
              "    [theme=dark] .colab-df-convert:hover {\n",
              "      background-color: #434B5C;\n",
              "      box-shadow: 0px 1px 3px 1px rgba(0, 0, 0, 0.15);\n",
              "      filter: drop-shadow(0px 1px 2px rgba(0, 0, 0, 0.3));\n",
              "      fill: #FFFFFF;\n",
              "    }\n",
              "  </style>\n",
              "\n",
              "      <script>\n",
              "        const buttonEl =\n",
              "          document.querySelector('#df-da68c1e7-b364-4141-b2b5-52680e3a5bf8 button.colab-df-convert');\n",
              "        buttonEl.style.display =\n",
              "          google.colab.kernel.accessAllowed ? 'block' : 'none';\n",
              "\n",
              "        async function convertToInteractive(key) {\n",
              "          const element = document.querySelector('#df-da68c1e7-b364-4141-b2b5-52680e3a5bf8');\n",
              "          const dataTable =\n",
              "            await google.colab.kernel.invokeFunction('convertToInteractive',\n",
              "                                                     [key], {});\n",
              "          if (!dataTable) return;\n",
              "\n",
              "          const docLinkHtml = 'Like what you see? Visit the ' +\n",
              "            '<a target=\"_blank\" href=https://colab.research.google.com/notebooks/data_table.ipynb>data table notebook</a>'\n",
              "            + ' to learn more about interactive tables.';\n",
              "          element.innerHTML = '';\n",
              "          dataTable['output_type'] = 'display_data';\n",
              "          await google.colab.output.renderOutput(dataTable, element);\n",
              "          const docLink = document.createElement('div');\n",
              "          docLink.innerHTML = docLinkHtml;\n",
              "          element.appendChild(docLink);\n",
              "        }\n",
              "      </script>\n",
              "    </div>\n",
              "  </div>\n",
              "  "
            ]
          },
          "metadata": {},
          "execution_count": 76
        }
      ]
    },
    {
      "cell_type": "code",
      "source": [
        "text = ' '.join(top_technical_skills['Words'].tolist())\n",
        "wordcloud = WordCloud(background_color=\"white\").generate(text)\n",
        "plt.imshow(wordcloud, interpolation='bilinear')\n",
        "plt.axis(\"off\")\n",
        "plt.show()"
      ],
      "metadata": {
        "colab": {
          "base_uri": "https://localhost:8080/",
          "height": 285
        },
        "id": "PNAj4iC6X6fm",
        "outputId": "ac2271c7-4e02-448c-b63e-e96dfd38ee53"
      },
      "id": "PNAj4iC6X6fm",
      "execution_count": 73,
      "outputs": [
        {
          "output_type": "display_data",
          "data": {
            "text/plain": [
              "<Figure size 640x480 with 1 Axes>"
            ],
            "image/png": "[encoded data removed]"
          },
          "metadata": {}
        }
      ]
    },
    {
      "cell_type": "code",
      "source": [
        "text = ' '.join(top_personality_skills['Words'].tolist())\n",
        "wordcloud = WordCloud(background_color=\"white\").generate(text)\n",
        "plt.imshow(wordcloud, interpolation='bilinear')\n",
        "plt.axis(\"off\")\n",
        "plt.show()"
      ],
      "metadata": {
        "colab": {
          "base_uri": "https://localhost:8080/",
          "height": 285
        },
        "id": "Hi3GB3NiXszk",
        "outputId": "9df7d633-cf01-4d35-98ee-b5138cbc7b8f"
      },
      "id": "Hi3GB3NiXszk",
      "execution_count": 74,
      "outputs": [
        {
          "output_type": "display_data",
          "data": {
            "text/plain": [
              "<Figure size 640x480 with 1 Axes>"
            ],
            "image/png": "[encoded data removed]"
          },
          "metadata": {}
        }
      ]
    },
    {
      "cell_type": "code",
      "source": [
        "text = ' '.join(top_accounting_skills['Words'].tolist())\n",
        "wordcloud = WordCloud(background_color=\"white\").generate(text)\n",
        "plt.imshow(wordcloud, interpolation='bilinear')\n",
        "plt.axis(\"off\")\n",
        "plt.show()"
      ],
      "metadata": {
        "colab": {
          "base_uri": "https://localhost:8080/",
          "height": 285
        },
        "id": "3GEeW3Bi_9WV",
        "outputId": "9ac1a6f5-dc2f-49fe-a916-ed229941a1bc"
      },
      "id": "3GEeW3Bi_9WV",
      "execution_count": 75,
      "outputs": [
        {
          "output_type": "display_data",
          "data": {
            "text/plain": [
              "<Figure size 640x480 with 1 Axes>"
            ],
            "image/png": "[encoded data removed]"
          },
          "metadata": {}
        }
      ]
    }
  ],
  "metadata": {
    "kernelspec": {
      "display_name": "Python 3 (ipykernel)",
      "language": "python",
      "name": "python3"
    },
    "language_info": {
      "codemirror_mode": {
        "name": "ipython",
        "version": 3
      },
      "file_extension": ".py",
      "mimetype": "text/x-python",
      "name": "python",
      "nbconvert_exporter": "python",
      "pygments_lexer": "ipython3",
      "version": "3.9.13"
    },
    "colab": {
      "provenance": []
    }
  },
  "nbformat": 4,
  "nbformat_minor": 5
}